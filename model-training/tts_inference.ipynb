{
 "cells": [
  {
   "cell_type": "code",
   "execution_count": null,
   "metadata": {
    "id": "IuvzCbZNRB_N"
   },
   "outputs": [],
   "source": [
    "!sudo apt-get install -y espeak\n",
    "!pip install soundfile"
   ]
  },
  {
   "cell_type": "code",
   "execution_count": null,
   "metadata": {
    "id": "5sU2XDYhRFPQ"
   },
   "outputs": [],
   "source": [
    "!git clone https://github.com/flych3r/TTS.git -b pt-br\n",
    "%cd TTS\n",
    "\n",
    "!pip install torch==1.6.0+cu101 -f https://download.pytorch.org/whl/torch_stable.html"
   ]
  },
  {
   "cell_type": "code",
   "execution_count": null,
   "metadata": {
    "id": "VIIJUOyN_4Yt"
   },
   "outputs": [],
   "source": [
    "!pip install -e .\n",
    "!pip install -e ."
   ]
  },
  {
   "cell_type": "code",
   "execution_count": null,
   "metadata": {
    "id": "HCSq9iZURIoF"
   },
   "outputs": [],
   "source": [
    "import os\n",
    "import torch\n",
    "import time\n",
    "import IPython\n",
    "import numpy as np\n",
    "\n",
    "from TTS.tts.utils.generic_utils import setup_model\n",
    "from TTS.vocoder.utils.generic_utils import setup_generator\n",
    "from TTS.utils.io import load_config\n",
    "from TTS.tts.utils.text.symbols import symbols, phonemes\n",
    "from TTS.utils.audio import AudioProcessor\n",
    "from TTS.tts.utils.synthesis import synthesis"
   ]
  },
  {
   "cell_type": "code",
   "execution_count": null,
   "metadata": {
    "id": "8cae1mfFRT7J"
   },
   "outputs": [],
   "source": [
    "def tts(model, vocoder_model, text, CONFIG, use_cuda, ap, use_gl, trim, figures=True):\n",
    "    t_1 = time.time()\n",
    "    waveform, alignment, mel_spec, mel_postnet_spec, stop_tokens, inputs = synthesis(\n",
    "        model, text, CONFIG, use_cuda, ap, speaker_id, style_wav=None,\n",
    "        truncated=False, enable_eos_bos_chars=CONFIG.enable_eos_bos_chars,\n",
    "        use_griffin_lim=use_gl, do_trim_silence=trim\n",
    "    )\n",
    "    # mel_postnet_spec = ap._denormalize(mel_postnet_spec.T)\n",
    "    if not use_gl:\n",
    "        waveform = vocoder_model.inference(torch.FloatTensor(mel_postnet_spec.T).unsqueeze(0))\n",
    "        waveform = waveform.flatten()\n",
    "    if use_cuda:\n",
    "        waveform = waveform.cpu()\n",
    "    if not isinstance(waveform, np.ndarray):\n",
    "        waveform = waveform.numpy()\n",
    "    rtf = (time.time() - t_1) / (len(waveform) / ap.sample_rate)\n",
    "    tps = (time.time() - t_1) / len(waveform)\n",
    "    print(waveform.shape)\n",
    "    print(\" > Run-time: {}\".format(time.time() - t_1))\n",
    "    print(\" > Real-time factor: {}\".format(rtf))\n",
    "    print(\" > Time per step: {}\".format(tps))\n",
    "    IPython.display.display(IPython.display.Audio(waveform, rate=CONFIG.audio['sample_rate']))  \n",
    "    return alignment, mel_postnet_spec, stop_tokens, waveform"
   ]
  },
  {
   "cell_type": "code",
   "execution_count": null,
   "metadata": {
    "id": "t2UQFsATRUkg"
   },
   "outputs": [],
   "source": [
    "use_cuda = False\n",
    "\n",
    "path = '/content/drive/MyDrive/tts/'\n",
    "tts_model = 'ljspeech-ddc-bn/'\n",
    "TTS_MODEL = path + tts_model + 'best_model.pth.tar'\n",
    "TTS_CONFIG = path + 'config.json'\n",
    "\n",
    "vocoder_model = 'mel-gan/'\n",
    "VOCODER_MODEL = path + vocoder_model + 'best_model.pth.tar'\n",
    "VOCODER_CONFIG = path + 'vocoder_config.json'\n",
    "\n",
    "# load configs\n",
    "TTS_CONFIG = load_config(TTS_CONFIG)\n",
    "VOCODER_CONFIG = load_config(VOCODER_CONFIG)"
   ]
  },
  {
   "cell_type": "code",
   "execution_count": null,
   "metadata": {
    "id": "Bj_C7D93RYna"
   },
   "outputs": [],
   "source": [
    "# load the audio processor\n",
    "TTS_CONFIG.audio['stats_path'] = path + 'scale_stats.npy'\n",
    "ap = AudioProcessor(**TTS_CONFIG.audio)"
   ]
  },
  {
   "cell_type": "code",
   "execution_count": null,
   "metadata": {
    "id": "YlkfKe93Raj-"
   },
   "outputs": [],
   "source": [
    "# multi speaker \n",
    "speaker_id = None\n",
    "speakers = []\n",
    "\n",
    "# load the model\n",
    "num_chars = len(phonemes) if TTS_CONFIG.use_phonemes else len(symbols)\n",
    "model = setup_model(num_chars, len(speakers), TTS_CONFIG)\n",
    "\n",
    "# load model state\n",
    "cp =  torch.load(TTS_MODEL, map_location=torch.device('cpu'))\n",
    "\n",
    "# load the model\n",
    "model.load_state_dict(cp['model'])\n",
    "if use_cuda:\n",
    "    model.cuda()\n",
    "\n",
    "# set model stepsize\n",
    "if 'r' in cp:\n",
    "    model.decoder.set_r(cp['r'])\n",
    "\n",
    "model.eval();"
   ]
  },
  {
   "cell_type": "code",
   "execution_count": null,
   "metadata": {
    "id": "vJSNKQLvRbTk"
   },
   "outputs": [],
   "source": [
    "# load vocoder model\n",
    "vocoder_model = setup_generator(VOCODER_CONFIG)\n",
    "vocoder_model.load_state_dict(torch.load(VOCODER_MODEL, map_location=\"cpu\")[\"model\"])\n",
    "vocoder_model.remove_weight_norm()\n",
    "vocoder_model.inference_padding = 0\n",
    "\n",
    "ap_vocoder = AudioProcessor(**VOCODER_CONFIG['audio'])\n",
    "if use_cuda:\n",
    "    vocoder_model.cuda()\n",
    "vocoder_model.eval()"
   ]
  },
  {
   "cell_type": "code",
   "execution_count": null,
   "metadata": {
    "id": "aqo5UwFCRdzL"
   },
   "outputs": [],
   "source": [
    "sentences =  [\n",
    "    \"Confira as ações que o Governo do Ceará vem promovendo no combate à pandemia.\",\n",
    "    \"Hospital Leonardo Da Vinci realiza mais de 1200 cirurgias eletivas em cerca de dois meses.\",\n",
    "    \"Investimentos para o ensino remoto geram legado para a educação cearense em 2020.\",\n",
    "    \"Os resultados positivos foram apresentados nesta segunda-feira (21) O Centro Socioeducativo Patativa do Assaré realizou na manhã desta segunda-feira (21) o encerramento do projeto-piloto em parceria com a Terre Des Hommes (Tdh).\",\n",
    "    \"Ceará Transparente e IntegraSUS dão transparência as ações do Governo do Ceará no combate à Covid-19\",\n",
    "    \"Com apoio da Funcap, pesquisadores publicam artigo sobre reprodução do sapinho maranguapense em periódico internacional\",\n",
    "    \"Dragão do Mar celebra período natalino com espetáculo virtual de pastoril, nesta quarta-feira (23)\",\n",
    "    \"Natal do Governo do Ceará acolhe 424 crianças e adolescentes de 19 entidades\",\n",
    "    \"CGE promove curso técnico de controle para Assessorias de Controle Interno dos órgãos e entidades Estaduais\",\n",
    "    \"Uma aeronave da Coordenadoria Integrada de Operações Aéreas (Ciopaer) da Secretaria da Segurança Pública e Defesa Social (SSPDS) realizou o resgate aeromédico de uma jovem de 23 anos vítima de um acidente automobilístico\"\n",
    "]\n",
    "for sentence in sentences:\n",
    "    align, spec, stop_tokens, wav = tts(\n",
    "        model, vocoder_model, sentence, TTS_CONFIG, use_cuda, ap, use_gl=False, trim=True, figures=True\n",
    "    )"
   ]
  },
  {
   "cell_type": "code",
   "execution_count": null,
   "metadata": {
    "id": "jtBGNFFGTKlL"
   },
   "outputs": [],
   "source": []
  }
 ],
 "metadata": {
  "colab": {
   "authorship_tag": "ABX9TyMUB8b5MNV5FoFF67xZjPPl",
   "collapsed_sections": [],
   "mount_file_id": "1QpTIxQnXm_F3RrrrIr3hzFw8OTxPdccP",
   "name": "tts_inference.ipynb",
   "provenance": []
  },
  "kernelspec": {
   "display_name": "Python 3.8.8 64-bit ('base': conda)",
   "name": "python388jvsc74a57bd05214061b4fae12c44c51c046bf1e8c664fb2befaae204527cc97068418f055cd"
  },
  "language_info": {
   "codemirror_mode": {
    "name": "ipython",
    "version": 3
   },
   "file_extension": ".py",
   "mimetype": "text/x-python",
   "name": "python",
   "nbconvert_exporter": "python",
   "pygments_lexer": "ipython3",
   "version": "3.8.8"
  }
 },
 "nbformat": 4,
 "nbformat_minor": 1
}
