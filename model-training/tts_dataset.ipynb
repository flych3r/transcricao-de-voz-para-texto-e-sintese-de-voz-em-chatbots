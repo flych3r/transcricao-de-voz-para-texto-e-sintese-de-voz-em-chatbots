{
 "cells": [
  {
   "cell_type": "code",
   "execution_count": null,
   "metadata": {
    "id": "eJSzUmEE1Qpf"
   },
   "outputs": [],
   "source": [
    "!pip install pydub"
   ]
  },
  {
   "cell_type": "markdown",
   "metadata": {
    "id": "YpQ4phVa-sP4"
   },
   "source": [
    "## Create data"
   ]
  },
  {
   "cell_type": "code",
   "execution_count": null,
   "metadata": {
    "id": "VxNO28w91WmA"
   },
   "outputs": [],
   "source": [
    "import os\n",
    "import glob\n",
    "import shutil\n",
    "import pandas as pd\n",
    "import tqdm\n",
    "import pydub"
   ]
  },
  {
   "cell_type": "code",
   "execution_count": null,
   "metadata": {
    "id": "zoRDPnKV1XIi"
   },
   "outputs": [],
   "source": [
    "os.makedirs('/content/dataset/wavs')\n",
    "\n",
    "files = glob.glob('/content/drive/MyDrive/arquivos/texto*.wav')\n",
    "shutil.copy2('/content/drive/MyDrive/arquivos/texts.csv', '/content/dataset/')\n",
    "\n",
    "invalid = []\n",
    "for f in tqdm.tqdm(files):\n",
    "    try:\n",
    "        sound = pydub.AudioSegment.from_file(f)\n",
    "        sound = sound.set_frame_rate(22050)\n",
    "        sound = sound.set_channels(1)\n",
    "        fname = f.split('/')[-1]\n",
    "        fname = fname.split('.')[0]\n",
    "        _, fname = fname.split('-')\n",
    "        fname = '/content/dataset/wavs/sample-{}.wav'.format(int(fname))\n",
    "        sound.export(fname, format='wav')\n",
    "    except IndexError:\n",
    "        invalid.append(f)\n",
    "        pass\n",
    "print(invalid)"
   ]
  },
  {
   "cell_type": "code",
   "execution_count": null,
   "metadata": {
    "id": "8eBzMAA31ZiN"
   },
   "outputs": [],
   "source": [
    "df = pd.read_csv('/content/drive/MyDrive/arquivos/texts.csv', sep='==', header=None)\n",
    "texts = df[0].to_list()\n",
    "\n",
    "files = glob.glob('dataset/wavs/*.wav')\n",
    "files = [f.replace('dataset/', '') for f in files]\n",
    "\n",
    "valid = [*(set(texts) & set(files))]\n",
    "\n",
    "df = df[df[0].isin(valid)]\n",
    "\n",
    "df[0] = df[0].apply(lambda x: x[5:-4])\n",
    "\n",
    "df.to_csv('dataset/metadata.csv', sep='|', header=None, index=None)"
   ]
  },
  {
   "cell_type": "code",
   "execution_count": null,
   "metadata": {
    "id": "w2kmfnnv1a_x"
   },
   "outputs": [],
   "source": [
    "!zip -r dataset.zip dataset\n",
    "!mv dataset.zip /content/drive/MyDrive/tts/"
   ]
  },
  {
   "cell_type": "markdown",
   "metadata": {
    "id": "fz5P-TPo-HI5"
   },
   "source": [
    "## Configure Training"
   ]
  },
  {
   "cell_type": "code",
   "execution_count": null,
   "metadata": {
    "id": "4YF_t5frRY_v"
   },
   "outputs": [],
   "source": [
    "!git clone https://github.com/flych3r/TTS.git -b pt-br\n",
    "%cd TTS"
   ]
  },
  {
   "cell_type": "code",
   "execution_count": null,
   "metadata": {
    "id": "96MlHe-KRb5B"
   },
   "outputs": [],
   "source": [
    "!pip install -e .\n",
    "!pip install -e ."
   ]
  },
  {
   "cell_type": "code",
   "execution_count": null,
   "metadata": {
    "id": "hoshX5jS-Hh3"
   },
   "outputs": [],
   "source": [
    "df_stats = df[1].str.len().describe()\n",
    "df_stats"
   ]
  },
  {
   "cell_type": "code",
   "execution_count": null,
   "metadata": {
    "id": "pMEsfuED-IVi"
   },
   "outputs": [],
   "source": [
    "max(df_stats['min'], df_stats['25%'] - df_stats['std'])"
   ]
  },
  {
   "cell_type": "code",
   "execution_count": null,
   "metadata": {
    "id": "hwsaaPZd-J2-"
   },
   "outputs": [],
   "source": [
    "min(df_stats['max'], df_stats['75%'] + df_stats['std'])"
   ]
  },
  {
   "cell_type": "code",
   "execution_count": null,
   "metadata": {
    "id": "L_gctUjz-L_B"
   },
   "outputs": [],
   "source": [
    "import ujson\n",
    "from TTS.utils.io import load_config\n",
    "\n",
    "CONFIG = load_config('/content/TTS/TTS/tts/configs/config.json')\n",
    "CONFIG['use_phonemes'] = True\n",
    "CONFIG['phoneme_language'] = 'pt-br'\n",
    "CONFIG['phoneme_cache_path'] = 'phoneme_cache/'\n",
    "CONFIG['datasets'][0]['path'] = '/content/dataset'\n",
    "CONFIG['num_mels'] = 80\n",
    "CONFIG['mel_fmin'] = 0.0\n",
    "CONFIG['mel_fmax'] = 8000.0\n",
    "CONFIG['spec_gain'] = 20.0\n",
    "CONFIG['min_seq_len'] = 2\n",
    "CONFIG['max_seq_len'] = 240\n",
    "CONFIG['audio']['stats_path'] = '/content/drive/MyDrive/tts/scale_stats.npy'\n",
    "CONFIG['audio']['sample_rate'] = 22050\n",
    "CONFIG['gradual_training'] = [\n",
    "    [0, 7, 16], \n",
    "    [1, 5, 16], \n",
    "    [50000, 3, 16], \n",
    "    [130000, 2, 8], \n",
    "    [290000, 1, 8]\n",
    "]\n",
    "CONFIG['epochs'] = 1000\n",
    "CONFIG['test_delay_epochs'] = 10\n",
    "CONFIG['output_path'] = '/content/drive/MyDrive/tts/'\n",
    "with open('/content/drive/MyDrive/tts/config.json', 'w') as fp:\n",
    "    ujson.dump(CONFIG, fp, indent=True)\n",
    "\n",
    "VOCODER_CONFIG = load_config('/content/TTS/TTS/vocoder/configs/multiband_melgan_config.json')\n",
    "VOCODER_CONFIG['audio']['sample_rate'] = 22050\n",
    "VOCODER_CONFIG['audio']['stats_path'] = '/content/drive/MyDrive/tts/vocoder_scale_stats.npy'\n",
    "VOCODER_CONFIG['data_path'] = '/content/dataset/wavs'\n",
    "VOCODER_CONFIG['mel_fmin'] = 50.0\n",
    "VOCODER_CONFIG['mel_fmax'] = 7600.0\n",
    "VOCODER_CONFIG['spec_gain'] = 1.0\n",
    "VOCODER_CONFIG['epochs'] = 1000\n",
    "VOCODER_CONFIG['test_delay_epochs'] = 10\n",
    "VOCODER_CONFIG['output_path'] = '/content/drive/MyDrive/tts/'\n",
    "with open('/content/drive/MyDrive/tts/vocoder_config.json', 'w') as fp:\n",
    "    ujson.dump(VOCODER_CONFIG, fp, indent=True)"
   ]
  },
  {
   "cell_type": "code",
   "execution_count": null,
   "metadata": {
    "id": "YpVQV7GW-RPJ"
   },
   "outputs": [],
   "source": [
    "!python TTS/bin/compute_statistics.py --config_path /content/drive/MyDrive/tts/config.json --out_path /content/drive/MyDrive/tts/"
   ]
  }
 ],
 "metadata": {
  "colab": {
   "authorship_tag": "ABX9TyO5Thc2AwljJtMu5pRw0AB5",
   "collapsed_sections": [],
   "mount_file_id": "1mkPkEO0-VwgLsqHg1QrX09U3EsD28QiQ",
   "name": "tts_dataset.ipynb",
   "provenance": []
  },
  "kernelspec": {
   "display_name": "Python 3.8.8 64-bit ('base': conda)",
   "name": "python388jvsc74a57bd05214061b4fae12c44c51c046bf1e8c664fb2befaae204527cc97068418f055cd"
  },
  "language_info": {
   "codemirror_mode": {
    "name": "ipython",
    "version": 3
   },
   "file_extension": ".py",
   "mimetype": "text/x-python",
   "name": "python",
   "nbconvert_exporter": "python",
   "pygments_lexer": "ipython3",
   "version": "3.8.8"
  }
 },
 "nbformat": 4,
 "nbformat_minor": 1
}
