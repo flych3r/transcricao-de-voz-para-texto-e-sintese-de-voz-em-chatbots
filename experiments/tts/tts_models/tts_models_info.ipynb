{
 "cells": [
  {
   "cell_type": "code",
   "execution_count": null,
   "metadata": {
    "colab": {},
    "colab_type": "code",
    "id": "C4BitnUtYuFU"
   },
   "outputs": [],
   "source": [
    "import pandas as pd\n",
    "import numpy as np\n",
    "import matplotlib.pyplot as plt\n",
    "from IPython import display\n",
    "import textwrap\n",
    "\n",
    "plt.style.use('fivethirtyeight')\n",
    "display.set_matplotlib_formats('svg')\n",
    "pd.set_option('display.max_colwidth', 100)"
   ]
  },
  {
   "cell_type": "code",
   "execution_count": null,
   "metadata": {
    "colab": {
     "base_uri": "https://localhost:8080/",
     "height": 108
    },
    "colab_type": "code",
    "id": "ESYLkoWZKfr5",
    "outputId": "ea1cf380-d292-4c59-9ec8-29ca352d6b7e"
   },
   "outputs": [],
   "source": [
    "!cp '/content/drive/My Drive/TCC_data/audio_synthesis/synthesis_transcribed.zip' .\n",
    "!unzip synthesis_transcribed.zip"
   ]
  },
  {
   "cell_type": "code",
   "execution_count": null,
   "metadata": {
    "colab": {
     "base_uri": "https://localhost:8080/",
     "height": 1000
    },
    "colab_type": "code",
    "id": "0qDgu0F6OTj0",
    "outputId": "e0e1316b-8419-4c78-c8f3-9e1380c60f15"
   },
   "outputs": [],
   "source": [
    "!cp -R '/content/drive/My Drive/TCC_data/audio_synthesis' .\n",
    "!unzip 'audio_synthesis/audios_dctts_gpu.zip' -d 'dctts'\n",
    "!unzip 'audio_synthesis/audios_griffin_gpu.zip' -d 'griffinlin'\n",
    "!unzip 'audio_synthesis/audios_wavernn_gpu.zip' -d 'wavernn'"
   ]
  },
  {
   "cell_type": "code",
   "execution_count": null,
   "metadata": {
    "colab": {},
    "colab_type": "code",
    "id": "HVnVUjMtYTt4"
   },
   "outputs": [],
   "source": [
    "file_path = '{}_transcription.tsv'\n",
    "\n",
    "dfs = dict()\n",
    "for name in ['dctts', 'griffinlin', 'wavernn']:\n",
    "    dfs[name] = pd.read_csv(file_path.format(name, ''), sep='\\t')"
   ]
  },
  {
   "cell_type": "markdown",
   "metadata": {
    "colab_type": "text",
    "id": "G57v7jscc-DH"
   },
   "source": [
    "## Info"
   ]
  },
  {
   "cell_type": "code",
   "execution_count": null,
   "metadata": {
    "colab": {},
    "colab_type": "code",
    "id": "WG5kyqSIi1vW"
   },
   "outputs": [],
   "source": [
    "valid = [*set(dfs['dctts']['file']) & set(dfs['griffinlin']['file']) & set(dfs['wavernn']['file'])]\n",
    "examples = np.random.choice(valid, 10)\n",
    "dctts = dfs['dctts'][dfs['dctts']['file'].isin(examples)]\n",
    "griffinlin = dfs['griffinlin'][dfs['griffinlin']['file'].isin(examples)]\n",
    "wavernn = dfs['wavernn'][dfs['wavernn']['file'].isin(examples)]\n",
    "files = dctts['file']"
   ]
  },
  {
   "cell_type": "code",
   "execution_count": null,
   "metadata": {
    "colab": {},
    "colab_type": "code",
    "id": "oagMEacehrvb"
   },
   "outputs": [],
   "source": [
    "def print_side_by_side(a, b, c, d, size):\n",
    "    while a or b or c or d:\n",
    "        print(a[:size].ljust(size), b[:size].ljust(size), c[:size].ljust(size), d[:size].ljust(size), sep=' | ')\n",
    "        a = a[size:]\n",
    "        b = b[size:]\n",
    "        c = c[size:]\n",
    "        d = d[size:]\n",
    "\n",
    "def print_sentence_translation(files, sentences, t1, t2, t3, size=25):\n",
    "    print('sentence'.ljust(size), 'dctts'.ljust(size), 'griffinlin'.ljust(size), 'wavernn'.ljust(size), sep=' | ')\n",
    "    print('*' * 110)\n",
    "    for f, a, b, c, d in zip(files, sentences, t1, t2, t3):\n",
    "        print_side_by_side(a, b, c, d, size)\n",
    "        print('#' * 110)\n",
    "        for n in ['dctts', 'griffinlin', 'wavernn']:\n",
    "            print(n)\n",
    "            display.display(display.Audio('{}/audios/{}'.format(n, f)))\n",
    "        print()"
   ]
  },
  {
   "cell_type": "code",
   "execution_count": null,
   "metadata": {
    "colab": {
     "base_uri": "https://localhost:8080/",
     "height": 1000
    },
    "colab_type": "code",
    "id": "BmMEOmlijJEw",
    "outputId": "e58066e2-9b3a-4717-f86c-9adcda89bb82"
   },
   "outputs": [],
   "source": [
    "print_sentence_translation(\n",
    "    files,\n",
    "    dctts['sentence'].values, \n",
    "    dctts['translation'].values, \n",
    "    griffinlin['translation'].values, \n",
    "    wavernn['translation'].values\n",
    ")"
   ]
  },
  {
   "cell_type": "markdown",
   "metadata": {
    "colab_type": "text",
    "id": "bwYomWRsdSR4"
   },
   "source": [
    "Memory:\n",
    "    idle = 0.72\n",
    "\n",
    "    DCTTS_CPU = 1.21\n",
    "    GRIFFINLIN_CPU = 1.10\n",
    "    WAVERNN_CPU = 1.06\n",
    "\n",
    "    DCTTS_GPU = 1.98\n",
    "    GRIFFINLIN_GPU = 2.52 \n",
    "    WAVERNN_GPU = 2.50\n",
    "\n",
    "Inference:\n",
    "    Sentença: 150, Áudio: 10s\n",
    "\n",
    "    DCTTS_CPU = 84s\n",
    "    GRIFFINLIN_CPU = 20s\n",
    "    WAVERNN_CPU = 200s\n",
    "\n",
    "    DCTTS_GPU = 12s\n",
    "    GRIFFINLIN_GPU = 15s\n",
    "    WAVERNN_GPU = 45s"
   ]
  },
  {
   "cell_type": "code",
   "execution_count": null,
   "metadata": {
    "colab": {},
    "colab_type": "code",
    "id": "mStqVrwpN_OJ"
   },
   "outputs": [],
   "source": []
  }
 ],
 "metadata": {
  "colab": {
   "collapsed_sections": [],
   "name": "tts_transcribed_plots.ipynb",
   "provenance": []
  },
  "kernelspec": {
   "display_name": "Python 3",
   "language": "python",
   "name": "python3"
  },
  "language_info": {
   "codemirror_mode": {
    "name": "ipython",
    "version": 3
   },
   "file_extension": ".py",
   "mimetype": "text/x-python",
   "name": "python",
   "nbconvert_exporter": "python",
   "pygments_lexer": "ipython3",
   "version": "3.7.9"
  }
 },
 "nbformat": 4,
 "nbformat_minor": 1
}
