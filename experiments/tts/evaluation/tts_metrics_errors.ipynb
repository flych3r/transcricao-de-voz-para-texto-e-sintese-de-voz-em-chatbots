{
 "cells": [
  {
   "cell_type": "code",
   "execution_count": null,
   "metadata": {
    "colab": {
     "base_uri": "https://localhost:8080/",
     "height": 1000
    },
    "colab_type": "code",
    "executionInfo": {
     "elapsed": 10982,
     "status": "ok",
     "timestamp": 1599175853277,
     "user": {
      "displayName": "MATHEUS XAVIER SAMPAIO UFC",
      "photoUrl": "https://lh3.googleusercontent.com/a-/AOh14GgKclV5ScdNnarKMuaBwh0e6xxjDf3pBV0WXU6u=s64",
      "userId": "13506587245414265177"
     },
     "user_tz": 180
    },
    "id": "okANQyui_6QD",
    "outputId": "3e17e6eb-9a3e-4a79-f48c-984636aa5f9d"
   },
   "outputs": [],
   "source": [
    "!cp '/content/drive/My Drive/TCC_data/audios_error.zip' .\n",
    "!unzip audios_error.zip\n",
    "!pip install pysptk\n",
    "!mkdir figs"
   ]
  },
  {
   "cell_type": "code",
   "execution_count": null,
   "metadata": {
    "colab": {},
    "colab_type": "code",
    "id": "qkN7ry8eBAEG",
    "scrolled": true
   },
   "outputs": [],
   "source": [
    "import pysptk\n",
    "import librosa\n",
    "import librosa.display\n",
    "import numpy as np\n",
    "import matplotlib.pyplot as plt\n",
    "from IPython import display"
   ]
  },
  {
   "cell_type": "code",
   "execution_count": null,
   "metadata": {
    "colab": {},
    "colab_type": "code",
    "id": "XWg5fbkQO8f_",
    "scrolled": true
   },
   "outputs": [],
   "source": [
    "plt.style.use('classic')\n",
    "display.set_matplotlib_formats('jpg', quality=94)"
   ]
  },
  {
   "cell_type": "markdown",
   "metadata": {
    "colab_type": "text",
    "id": "Vhh7K_Hs4o_m"
   },
   "source": [
    "## Audio Features"
   ]
  },
  {
   "cell_type": "code",
   "execution_count": null,
   "metadata": {
    "colab": {},
    "colab_type": "code",
    "id": "AL_ky7K_AzLJ",
    "scrolled": true
   },
   "outputs": [],
   "source": [
    "frame_length = 1024\n",
    "n_mels = 80\n",
    "hop_length = 256\n",
    "\n",
    "def spectrogram(filename, plot=True):\n",
    "    y, sr = librosa.load(filename)\n",
    "    \n",
    "    song, _ = librosa.effects.trim(y, top_db=40)\n",
    "\n",
    "    S = librosa.feature.melspectrogram(song, sr=sr, n_fft=frame_length, hop_length=hop_length, n_mels=n_mels)\n",
    "    S_DB = librosa.power_to_db(S, ref=np.max)\n",
    "    if plot:\n",
    "        librosa.display.specshow(S_DB, sr=sr, hop_length=hop_length, x_axis='time', y_axis='mel');\n",
    "        plt.colorbar(format='%+2.0f dB');\n",
    "    return S_DB, (song, sr)"
   ]
  },
  {
   "cell_type": "code",
   "execution_count": null,
   "metadata": {
    "colab": {},
    "colab_type": "code",
    "id": "rF-_YxSu3WGH",
    "scrolled": true
   },
   "outputs": [],
   "source": [
    "order = 25\n",
    "alpha = 0.41\n",
    "\n",
    "def f0_pitch_energy(path):\n",
    "    x, sr = librosa.load(path)\n",
    "    x, _ = librosa.effects.trim(x, top_db=40)\n",
    "\n",
    "    f0 = pysptk.swipe(x.astype(np.float64), fs=sr, hopsize=hop_length, min=60, max=240, otype=\"f0\")\n",
    "    pitch = pysptk.swipe(x.astype(np.float64), fs=sr, hopsize=hop_length, min=60, max=240, otype=\"pitch\")\n",
    "\n",
    "    frames = librosa.util.frame(x, frame_length=frame_length, hop_length=hop_length).astype(np.float64).T\n",
    "    frames *= pysptk.blackman(frame_length)\n",
    "    frames = frames[(frames != 0).all(axis=1)]\n",
    "    mc = pysptk.mcep(frames, order, alpha)\n",
    "    energy = pysptk.conversion.mc2e(mc)\n",
    "\n",
    "    return f0, pitch, energy"
   ]
  },
  {
   "cell_type": "markdown",
   "metadata": {
    "colab_type": "text",
    "id": "DvAPjWRc4YCQ"
   },
   "source": [
    "## Metrics"
   ]
  },
  {
   "cell_type": "code",
   "execution_count": null,
   "metadata": {
    "colab": {},
    "colab_type": "code",
    "id": "eRv9gLIdGU31",
    "scrolled": true
   },
   "outputs": [],
   "source": [
    "from torch.nn import L1Loss\n",
    "from torch import tensor\n",
    "\n",
    "l1 = L1Loss()\n",
    "def L1(yhat, y):\n",
    "    loss = l1(tensor(yhat), tensor(y))\n",
    "    return loss.tolist()"
   ]
  },
  {
   "cell_type": "code",
   "execution_count": null,
   "metadata": {
    "colab": {},
    "colab_type": "code",
    "id": "FwMmdVpuHEoz",
    "scrolled": true
   },
   "outputs": [],
   "source": [
    "from fastdtw import fastdtw\n",
    "from scipy.spatial.distance import euclidean\n",
    "\n",
    "def DTW(yhat, y):\n",
    "    distance, path = fastdtw(yhat, y, dist=euclidean)\n",
    "    return distance"
   ]
  },
  {
   "cell_type": "code",
   "execution_count": null,
   "metadata": {
    "colab": {},
    "colab_type": "code",
    "id": "EMJR2uFMHPaf",
    "scrolled": true
   },
   "outputs": [],
   "source": [
    "from sklearn.metrics import mean_squared_error\n",
    "\n",
    "def RMSE(yhat, y):\n",
    "    return np.sqrt(mean_squared_error(yhat, y))"
   ]
  },
  {
   "cell_type": "code",
   "execution_count": null,
   "metadata": {
    "colab": {},
    "colab_type": "code",
    "id": "1jSVdcot_Nto",
    "scrolled": true
   },
   "outputs": [],
   "source": [
    "from torch.nn import CosineSimilarity\n",
    "from torch import tensor\n",
    "\n",
    "cosine = CosineSimilarity()\n",
    "def COSINE(yhat, y):\n",
    "    loss = cosine(tensor(yhat), tensor(y))\n",
    "    return loss.mean().tolist()"
   ]
  },
  {
   "cell_type": "markdown",
   "metadata": {
    "colab_type": "text",
    "id": "TmqkkGQQ4xyg"
   },
   "source": [
    "## Comparing with sentences with errors"
   ]
  },
  {
   "cell_type": "code",
   "execution_count": null,
   "metadata": {
    "colab": {},
    "colab_type": "code",
    "id": "-MawIjqYd2Zt",
    "scrolled": true
   },
   "outputs": [],
   "source": [
    "sentences = [\n",
    "    \"A inauguração da vila é quarta ou quinta feira\",\n",
    "    \"Vote se você tiver o título de eleitor\",\n",
    "    \"Hoje é fundamental encontrar a razão da existência humana\",\n",
    "    \"A temperatura é mais amena a noite\",\n",
    "    \"Em muitas cidades a população está diminuindo\",\n",
    "    \"Nunca se deve ficar em cima do morro\",\n",
    "    \"Para as pessoas estranhas, o panorama é desolador\",\n",
    "    \"E bom te ver colhendo flores menino\",\n",
    "    \"Eu finjo me banhar num lago ao amanhecer\",\n",
    "    \"Sua sensibilidade mostrará o caminho\",\n",
    "    \"A Amazônia é a reserva ecológica do globo\",\n",
    "    \"O ministério mudou demais com a eleição\",\n",
    "    \"Nova metas surgem na informática\",\n",
    "    \"O capital de uma empresa depende de sua produção\",\n",
    "    \"Se não fosse ela tudo teria sido melhor\",\n",
    "    \"A principal personagem do filme é uma gueixa\",\n",
    "    \"Espere seu amigo em casa\",\n",
    "    \"A juventude tinha que revolucionar a escola\",\n",
    "    \"A cantora terá quatro meses para ensaiar seu canto\",\n",
    "    \"Esse tema foi falado no congresso\"\n",
    "]"
   ]
  },
  {
   "cell_type": "code",
   "execution_count": null,
   "metadata": {
    "colab": {},
    "colab_type": "code",
    "id": "DgIU3XJcS63m",
    "scrolled": true
   },
   "outputs": [],
   "source": [
    "def metric(y, yhat):\n",
    "    if y.shape[1] > yhat.shape[1]:\n",
    "        a = np.zeros_like(y)\n",
    "        a[:yhat.shape[0], :yhat.shape[1]] = yhat\n",
    "        yhat = a\n",
    "    else:\n",
    "        yhat = yhat[:y.shape[0], :y.shape[1]]\n",
    "        # a = np.zeros_like(yhat)\n",
    "        # a[:y.shape[0], :y.shape[1]] = y\n",
    "        # y = a\n",
    "    # y = librosa.feature.mfcc(S=y)\n",
    "    # yhat = librosa.feature.mfcc(S=yhat)\n",
    "\n",
    "    return COSINE(y, yhat)"
   ]
  },
  {
   "cell_type": "code",
   "execution_count": null,
   "metadata": {
    "colab": {},
    "colab_type": "code",
    "id": "LVdx-csL6JaD",
    "scrolled": true
   },
   "outputs": [],
   "source": [
    "d = {\n",
    "    'mozilla_tts': {\n",
    "        'original': [],\n",
    "        'mix': [],\n",
    "        'swap': []\n",
    "    },\n",
    "    'dctts': {\n",
    "        'original': [],\n",
    "        'mix': [],\n",
    "        'swap': []\n",
    "    }\n",
    "}"
   ]
  },
  {
   "cell_type": "code",
   "execution_count": null,
   "metadata": {
    "colab": {
     "base_uri": "https://localhost:8080/",
     "height": 1000
    },
    "colab_type": "code",
    "executionInfo": {
     "elapsed": 282774,
     "status": "ok",
     "timestamp": 1599176906617,
     "user": {
      "displayName": "MATHEUS XAVIER SAMPAIO UFC",
      "photoUrl": "https://lh3.googleusercontent.com/a-/AOh14GgKclV5ScdNnarKMuaBwh0e6xxjDf3pBV0WXU6u=s64",
      "userId": "13506587245414265177"
     },
     "user_tz": 180
    },
    "id": "mE6hDQT_8Dsq",
    "outputId": "0d629f6e-6d44-49a9-e3f5-0c21059c845d",
    "scrolled": true
   },
   "outputs": [],
   "source": [
    "import glob\n",
    "import tqdm\n",
    "\n",
    "for model in ['dctts', 'mozilla_tts']:\n",
    "\n",
    "    audios = {}\n",
    "\n",
    "    for i in tqdm.tqdm(range(1, 21)):\n",
    "        audios[i] = {}\n",
    "        f = 'ground_truth/{}.wav'.format(i)\n",
    "        spec, _ = spectrogram(f, plot=False)\n",
    "        audios[i]['ground_truth'] = (f, spec)\n",
    "        synthesised = []\n",
    "        for f in glob.glob('{}/{}_*.wav'.format(model, i)):\n",
    "            spec, _ = spectrogram(f, plot=False)\n",
    "            synthesised.append((f, spec))\n",
    "        audios[i]['synthesised'] = np.array(synthesised)\n",
    "\n",
    "    for speech in audios:\n",
    "        gt = audios[speech]['ground_truth'][1]\n",
    "        synthesised = audios[speech]['synthesised']\n",
    "        arr = np.array([*map(lambda x: metric(gt, x[1]), synthesised)])\n",
    "        idx, score = np.argsort(-arr), -np.sort(-arr)\n",
    "        l = [*zip(synthesised[idx, 0], score)]\n",
    "        \n",
    "        for t in l:\n",
    "            if 'original' in t[0]:\n",
    "                d[model]['original'].append(t[1])\n",
    "            if 'mix' in t[0]:\n",
    "                d[model]['mix'].append(t[1])\n",
    "            if 'swap' in t[0]:\n",
    "                d[model]['swap'].append(t[1])\n",
    "        \n",
    "        display.display(display.Audio(audios[speech]['ground_truth'][0]))\n",
    "\n",
    "        fpe_gt = f0_pitch_energy(audios[speech]['ground_truth'][0])\n",
    "\n",
    "        for i, n in zip(idx, l):\n",
    "            plt.figure(figsize=(20, 16))\n",
    "\n",
    "            plt.subplot(4, 2, 1);\n",
    "            librosa.display.specshow(audios[speech]['ground_truth'][1], x_axis='time', y_axis='mel')\n",
    "            plt.title(audios[speech]['ground_truth'][0]);\n",
    "\n",
    "            plt.subplot(4, 2, 2);\n",
    "            librosa.display.specshow(audios[speech]['synthesised'][i, 1], x_axis='time', y_axis='mel');\n",
    "            plt.title(str(n));\n",
    "\n",
    "            fpe = f0_pitch_energy(n[0])\n",
    "\n",
    "            k = 3\n",
    "            for j, m in enumerate(['f0', 'pitch', 'energy']):\n",
    "                    plt.subplot(4, 2, k)\n",
    "                    k += 1\n",
    "                    plt.plot(fpe_gt[j])\n",
    "                    plt.subplot(4, 2, k)\n",
    "                    k += 1\n",
    "                    plt.plot(fpe[j])\n",
    "                    plt.title(m)\n",
    "\n",
    "            plt.subplots_adjust(hspace=0.5)\n",
    "            # plt.savefig('figs/{}.png'.format(n[0].replace('/', '_')))\n",
    "            plt.show()\n",
    "\n",
    "            display.display(display.Audio(audios[speech]['synthesised'][i, 0]))"
   ]
  },
  {
   "cell_type": "code",
   "execution_count": null,
   "metadata": {
    "colab": {},
    "colab_type": "code",
    "id": "MkF-2o6Ql7ss",
    "scrolled": true
   },
   "outputs": [],
   "source": [
    "# !zip -r figs.zip figs\n",
    "# !cp  figs.zip '/content/drive/My Drive/TCC_data/'"
   ]
  },
  {
   "cell_type": "code",
   "execution_count": null,
   "metadata": {
    "colab": {
     "base_uri": "https://localhost:8080/",
     "height": 119
    },
    "colab_type": "code",
    "executionInfo": {
     "elapsed": 32,
     "status": "ok",
     "timestamp": 1599176906622,
     "user": {
      "displayName": "MATHEUS XAVIER SAMPAIO UFC",
      "photoUrl": "https://lh3.googleusercontent.com/a-/AOh14GgKclV5ScdNnarKMuaBwh0e6xxjDf3pBV0WXU6u=s64",
      "userId": "13506587245414265177"
     },
     "user_tz": 180
    },
    "id": "uTDWTEEix8Fn",
    "outputId": "192ea801-9ccd-49c1-99d0-62bf377252dd",
    "scrolled": true
   },
   "outputs": [],
   "source": [
    "scores = {'mozilla_tts': {}, 'dctts': {}}\n",
    "for m in d:\n",
    "    for s in d[m]:\n",
    "        scores[m][s] = np.mean(d[m][s])\n",
    "scores"
   ]
  },
  {
   "cell_type": "code",
   "execution_count": null,
   "metadata": {
    "colab": {},
    "colab_type": "code",
    "id": "Kiuxbc2ZUnFp",
    "scrolled": true
   },
   "outputs": [],
   "source": []
  }
 ],
 "metadata": {
  "colab": {
   "authorship_tag": "ABX9TyNeH53WashzjJ2vS5VIVAUG",
   "collapsed_sections": [],
   "mount_file_id": "1HOuUP_dW34aV6oC2BBJxbRv6jClSgQFs",
   "name": "tts_metrics_errors.ipynb",
   "provenance": [],
   "toc_visible": true
  },
  "kernelspec": {
   "display_name": "Python 3",
   "language": "python",
   "name": "python3"
  },
  "language_info": {
   "codemirror_mode": {
    "name": "ipython",
    "version": 3
   },
   "file_extension": ".py",
   "mimetype": "text/x-python",
   "name": "python",
   "nbconvert_exporter": "python",
   "pygments_lexer": "ipython3",
   "version": "3.7.9"
  }
 },
 "nbformat": 4,
 "nbformat_minor": 4
}
