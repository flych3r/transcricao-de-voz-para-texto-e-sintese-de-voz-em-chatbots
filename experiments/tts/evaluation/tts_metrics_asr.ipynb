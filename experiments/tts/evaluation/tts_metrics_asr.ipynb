{
 "cells": [
  {
   "cell_type": "code",
   "execution_count": null,
   "metadata": {
    "colab": {},
    "colab_type": "code",
    "id": "okANQyui_6QD"
   },
   "outputs": [],
   "source": [
    "!cp '/content/drive/My Drive/TCC_data/audios.zip' .\n",
    "!unzip audios.zip"
   ]
  },
  {
   "cell_type": "code",
   "execution_count": null,
   "metadata": {
    "colab": {},
    "colab_type": "code",
    "executionInfo": {
     "elapsed": 17615,
     "status": "ok",
     "timestamp": 1599174595732,
     "user": {
      "displayName": "MATHEUS XAVIER SAMPAIO UFC",
      "photoUrl": "https://lh3.googleusercontent.com/a-/AOh14GgKclV5ScdNnarKMuaBwh0e6xxjDf3pBV0WXU6u=s64",
      "userId": "13506587245414265177"
     },
     "user_tz": 180
    },
    "id": "qkN7ry8eBAEG"
   },
   "outputs": [],
   "source": [
    "import librosa\n",
    "import librosa.display\n",
    "import numpy as np\n",
    "import matplotlib.pyplot as plt\n",
    "from IPython import display\n",
    "import warnings"
   ]
  },
  {
   "cell_type": "code",
   "execution_count": null,
   "metadata": {
    "colab": {},
    "colab_type": "code",
    "executionInfo": {
     "elapsed": 17612,
     "status": "ok",
     "timestamp": 1599174595734,
     "user": {
      "displayName": "MATHEUS XAVIER SAMPAIO UFC",
      "photoUrl": "https://lh3.googleusercontent.com/a-/AOh14GgKclV5ScdNnarKMuaBwh0e6xxjDf3pBV0WXU6u=s64",
      "userId": "13506587245414265177"
     },
     "user_tz": 180
    },
    "id": "XWg5fbkQO8f_"
   },
   "outputs": [],
   "source": [
    "plt.style.use('classic')\n",
    "display.set_matplotlib_formats('jpg', quality=94)\n",
    "warnings.filterwarnings('ignore')"
   ]
  },
  {
   "cell_type": "markdown",
   "metadata": {
    "colab_type": "text",
    "id": "7RPlZIPTNgaL"
   },
   "source": [
    "## Compare speech recognition"
   ]
  },
  {
   "cell_type": "code",
   "execution_count": null,
   "metadata": {
    "colab": {
     "base_uri": "https://localhost:8080/",
     "height": 85
    },
    "colab_type": "code",
    "executionInfo": {
     "elapsed": 21469,
     "status": "ok",
     "timestamp": 1599174599594,
     "user": {
      "displayName": "MATHEUS XAVIER SAMPAIO UFC",
      "photoUrl": "https://lh3.googleusercontent.com/a-/AOh14GgKclV5ScdNnarKMuaBwh0e6xxjDf3pBV0WXU6u=s64",
      "userId": "13506587245414265177"
     },
     "user_tz": 180
    },
    "id": "oVCbpEXdOe1F",
    "outputId": "2d22c656-e368-4556-8a94-3c698c1d0308"
   },
   "outputs": [],
   "source": [
    "!pip install -U pydub"
   ]
  },
  {
   "cell_type": "code",
   "execution_count": null,
   "metadata": {
    "colab": {},
    "colab_type": "code",
    "executionInfo": {
     "elapsed": 21469,
     "status": "ok",
     "timestamp": 1599174599597,
     "user": {
      "displayName": "MATHEUS XAVIER SAMPAIO UFC",
      "photoUrl": "https://lh3.googleusercontent.com/a-/AOh14GgKclV5ScdNnarKMuaBwh0e6xxjDf3pBV0WXU6u=s64",
      "userId": "13506587245414265177"
     },
     "user_tz": 180
    },
    "id": "T38cKoASNlun"
   },
   "outputs": [],
   "source": [
    "import json\n",
    "import requests\n",
    "import io\n",
    "from pydub import AudioSegment\n",
    "\n",
    "def split_into_chunks(\n",
    "    segment, length=20000 / 1001, split_on_silence=False, noise_threshold=-36\n",
    "):\n",
    "    chunks = list()\n",
    "\n",
    "    if split_on_silence is False:\n",
    "        for i in range(0, len(segment), int(length * 1000)):\n",
    "            chunks.append(segment[i:i + int(length * 1000)])\n",
    "    else:\n",
    "        while len(chunks) < 1:\n",
    "            chunks = split_on_silence(segment, noise_threshold)\n",
    "            noise_threshold += 4\n",
    "\n",
    "    for i, chunk in enumerate(chunks):\n",
    "        if len(chunk) > int(length * 1000):\n",
    "            subchunks = split_into_chunks(\n",
    "                chunk, length, split_on_silence, noise_threshold + 4\n",
    "            )\n",
    "            chunks = chunks[:i - 1] + subchunks + chunks[i + 1:]\n",
    "\n",
    "    return chunks\n",
    "\n",
    "\n",
    "def preprocess_audio(audio):\n",
    "    return audio.set_sample_width(2).set_channels(1).set_frame_rate(22500)\n",
    "\n",
    "\n",
    "def read_audio_into_chunks(file_path):\n",
    "    audio = AudioSegment.from_file(file_path)\n",
    "    return split_into_chunks(preprocess_audio(audio))\n",
    "\n",
    "\n",
    "def transcribe_audio_wit(file_path):\n",
    "    url = 'https://api.wit.ai/speech'\n",
    "\n",
    "    authorization = 'Bearer ' + 'EWIVZ2MWYZQ7EPJYFHW27MPFWMKP35ZH'\n",
    "    content_type = 'audio/raw;' \\\n",
    "        'encoding=signed-integer;' \\\n",
    "        'bits=16;' \\\n",
    "        'rate=22500;' \\\n",
    "        'endian=little'\n",
    "\n",
    "    # defining headers for HTTP request\n",
    "    headers = {\n",
    "        'authorization': authorization,\n",
    "        'content-type': content_type\n",
    "    }\n",
    "\n",
    "    chunks = read_audio_into_chunks(file_path)\n",
    "\n",
    "    text = []\n",
    "    for audio in chunks:\n",
    "        response = requests.post(\n",
    "            url,\n",
    "            headers=headers,\n",
    "            data=io.BufferedReader(io.BytesIO(audio.raw_data))\n",
    "        )\n",
    "\n",
    "        try:\n",
    "            # Get the text\n",
    "            data = json.loads(response.content)\n",
    "            if 'text' in data:\n",
    "                text.append(data['text'])\n",
    "        except:\n",
    "            pass\n",
    "\n",
    "    return ' '.join(text)"
   ]
  },
  {
   "cell_type": "code",
   "execution_count": null,
   "metadata": {
    "colab": {},
    "colab_type": "code",
    "executionInfo": {
     "elapsed": 21468,
     "status": "ok",
     "timestamp": 1599174599597,
     "user": {
      "displayName": "MATHEUS XAVIER SAMPAIO UFC",
      "photoUrl": "https://lh3.googleusercontent.com/a-/AOh14GgKclV5ScdNnarKMuaBwh0e6xxjDf3pBV0WXU6u=s64",
      "userId": "13506587245414265177"
     },
     "user_tz": 180
    },
    "id": "6HI9EHGiOS-F"
   },
   "outputs": [],
   "source": [
    "sentences = [\n",
    "    \"A inauguração da vila é quarta ou quinta feira\",\n",
    "    \"Vote se você tiver o título de eleitor\",\n",
    "    \"Hoje é fundamental encontrar a razão da existência humana\",\n",
    "    \"A temperatura é mais amena a noite\",\n",
    "    \"Em muitas cidades a população está diminuindo\",\n",
    "    \"Nunca se deve ficar em cima do morro\",\n",
    "    \"Para as pessoas estranhas, o panorama é desolador\",\n",
    "    \"E bom te ver colhendo flores menino\",\n",
    "    \"Eu finjo me banhar num lago ao amanhecer\",\n",
    "    \"Sua sensibilidade mostrará o caminho\",\n",
    "    \"A Amazônia é a reserva ecológica do globo\",\n",
    "    \"O ministério mudou demais com a eleição\",\n",
    "    \"Nova metas surgem na informática\",\n",
    "    \"O capital de uma empresa depende de sua produção\",\n",
    "    \"Se não fosse ela tudo teria sido melhor\",\n",
    "    \"A principal personagem do filme é uma gueixa\",\n",
    "    \"Espere seu amigo em casa\",\n",
    "    \"A juventude tinha que revolucionar a escola\",\n",
    "    \"A cantora terá quatro meses para ensaiar seu canto\",\n",
    "    \"Esse tema foi falado no congresso\"\n",
    "]"
   ]
  },
  {
   "cell_type": "code",
   "execution_count": null,
   "metadata": {
    "colab": {
     "base_uri": "https://localhost:8080/",
     "height": 136
    },
    "colab_type": "code",
    "executionInfo": {
     "elapsed": 43106,
     "status": "ok",
     "timestamp": 1599174621239,
     "user": {
      "displayName": "MATHEUS XAVIER SAMPAIO UFC",
      "photoUrl": "https://lh3.googleusercontent.com/a-/AOh14GgKclV5ScdNnarKMuaBwh0e6xxjDf3pBV0WXU6u=s64",
      "userId": "13506587245414265177"
     },
     "user_tz": 180
    },
    "id": "kNbOObva1-yD",
    "outputId": "f0f78502-505a-4956-83b3-0daa29c3272c"
   },
   "outputs": [],
   "source": [
    "!cp -R '/content/drive/My Drive/TCC_data/embeddings/' .\n",
    "\n",
    "!unzip -d 'word2vec' \"embeddings/word2vec_*.zip\""
   ]
  },
  {
   "cell_type": "code",
   "execution_count": null,
   "metadata": {
    "colab": {},
    "colab_type": "code",
    "executionInfo": {
     "elapsed": 90921,
     "status": "ok",
     "timestamp": 1599174669057,
     "user": {
      "displayName": "MATHEUS XAVIER SAMPAIO UFC",
      "photoUrl": "https://lh3.googleusercontent.com/a-/AOh14GgKclV5ScdNnarKMuaBwh0e6xxjDf3pBV0WXU6u=s64",
      "userId": "13506587245414265177"
     },
     "user_tz": 180
    },
    "id": "R8x99RbL1vZl"
   },
   "outputs": [],
   "source": [
    "from gensim import corpora\n",
    "from gensim.matutils import softcossim\n",
    "from gensim.models import KeyedVectors\n",
    "\n",
    "emb_model = KeyedVectors.load_word2vec_format('word2vec/cbow_s50.txt')\n",
    "\n",
    "def cosine_similarity(reference, hypothesis):\n",
    "    reference = reference.split()\n",
    "    hypotesis = hypothesis.split()\n",
    "    documents = [hypotesis, reference]\n",
    "    dictionary = corpora.Dictionary(documents)\n",
    "\n",
    "    similarity_matrix = emb_model.similarity_matrix(dictionary)\n",
    "\n",
    "    hypotesis = dictionary.doc2bow(hypotesis)\n",
    "    reference = dictionary.doc2bow(reference)\n",
    "\n",
    "    return softcossim(hypotesis, reference, similarity_matrix)"
   ]
  },
  {
   "cell_type": "code",
   "execution_count": null,
   "metadata": {
    "colab": {},
    "colab_type": "code",
    "executionInfo": {
     "elapsed": 90923,
     "status": "ok",
     "timestamp": 1599174669065,
     "user": {
      "displayName": "MATHEUS XAVIER SAMPAIO UFC",
      "photoUrl": "https://lh3.googleusercontent.com/a-/AOh14GgKclV5ScdNnarKMuaBwh0e6xxjDf3pBV0WXU6u=s64",
      "userId": "13506587245414265177"
     },
     "user_tz": 180
    },
    "id": "y2uRBwqR3RN-"
   },
   "outputs": [],
   "source": [
    "from collections import defaultdict\n",
    "\n",
    "d = defaultdict(list)"
   ]
  },
  {
   "cell_type": "code",
   "execution_count": null,
   "metadata": {
    "colab": {
     "base_uri": "https://localhost:8080/",
     "height": 1000,
     "output_embedded_package_id": "1UbhAQKaqj1ODeG1lHAZ_O7NnhREENXyx"
    },
    "colab_type": "code",
    "executionInfo": {
     "elapsed": 283511,
     "status": "ok",
     "timestamp": 1599174861658,
     "user": {
      "displayName": "MATHEUS XAVIER SAMPAIO UFC",
      "photoUrl": "https://lh3.googleusercontent.com/a-/AOh14GgKclV5ScdNnarKMuaBwh0e6xxjDf3pBV0WXU6u=s64",
      "userId": "13506587245414265177"
     },
     "user_tz": 180
    },
    "id": "R7FuEKilO0Bl",
    "outputId": "a47b7bca-41be-44cc-a710-3265d82904c6"
   },
   "outputs": [],
   "source": [
    "for i in range(1, 21):\n",
    "    sent = sentences[i - 1]\n",
    "    f = 'ground_truth/{}.wav'.format(i)\n",
    "    orig = transcribe_audio_wit(f)\n",
    "    d['ground_truth'].append(cosine_similarity(sent, orig))\n",
    "\n",
    "    print(sent, f'({orig})')\n",
    "    display.display(display.Audio(f))\n",
    "    for m in ['dctts', 'tacotron', 'mozilla_tts']:\n",
    "        f = '{}/{}.wav'.format(m, i)\n",
    "        trans = transcribe_audio_wit(f)\n",
    "        d[m].append(cosine_similarity(sent, trans))\n",
    "    \n",
    "        print(m, ':' , trans)\n",
    "        display.display(display.Audio(f))\n",
    "    print('*' * 80)"
   ]
  },
  {
   "cell_type": "code",
   "execution_count": null,
   "metadata": {
    "colab": {
     "base_uri": "https://localhost:8080/",
     "height": 85
    },
    "colab_type": "code",
    "executionInfo": {
     "elapsed": 283517,
     "status": "ok",
     "timestamp": 1599174861667,
     "user": {
      "displayName": "MATHEUS XAVIER SAMPAIO UFC",
      "photoUrl": "https://lh3.googleusercontent.com/a-/AOh14GgKclV5ScdNnarKMuaBwh0e6xxjDf3pBV0WXU6u=s64",
      "userId": "13506587245414265177"
     },
     "user_tz": 180
    },
    "id": "hyqGx2414s2A",
    "outputId": "2641ed6c-676c-4249-872e-3578d9fb9347"
   },
   "outputs": [],
   "source": [
    "scores = {}\n",
    "for m in d:\n",
    "    scores[m] = np.mean(d[m])\n",
    "scores"
   ]
  },
  {
   "cell_type": "code",
   "execution_count": null,
   "metadata": {
    "colab": {},
    "colab_type": "code",
    "executionInfo": {
     "elapsed": 283516,
     "status": "ok",
     "timestamp": 1599174861670,
     "user": {
      "displayName": "MATHEUS XAVIER SAMPAIO UFC",
      "photoUrl": "https://lh3.googleusercontent.com/a-/AOh14GgKclV5ScdNnarKMuaBwh0e6xxjDf3pBV0WXU6u=s64",
      "userId": "13506587245414265177"
     },
     "user_tz": 180
    },
    "id": "b-khQxOs43PW"
   },
   "outputs": [],
   "source": []
  }
 ],
 "metadata": {
  "colab": {
   "authorship_tag": "ABX9TyNT3kpCUCd2QfImh2alzG43",
   "collapsed_sections": [],
   "mount_file_id": "1rUImkkvnbLGXRoQnJnH7RVcTa8qbYmm-",
   "name": "tts_metrics_asr.ipynb",
   "provenance": []
  },
  "kernelspec": {
   "display_name": "Python 3",
   "language": "python",
   "name": "python3"
  },
  "language_info": {
   "codemirror_mode": {
    "name": "ipython",
    "version": 3
   },
   "file_extension": ".py",
   "mimetype": "text/x-python",
   "name": "python",
   "nbconvert_exporter": "python",
   "pygments_lexer": "ipython3",
   "version": "3.7.9"
  }
 },
 "nbformat": 4,
 "nbformat_minor": 4
}
