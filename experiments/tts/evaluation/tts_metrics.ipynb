{
 "cells": [
  {
   "cell_type": "code",
   "execution_count": null,
   "metadata": {
    "colab": {},
    "colab_type": "code",
    "id": "okANQyui_6QD"
   },
   "outputs": [],
   "source": [
    "!cp '/content/drive/My Drive/TCC_data/audios.zip' .\n",
    "!unzip audios.zip\n",
    "!pip install pysptk\n",
    "!mkdir audio_model_comparasion"
   ]
  },
  {
   "cell_type": "code",
   "execution_count": null,
   "metadata": {
    "colab": {},
    "colab_type": "code",
    "executionInfo": {
     "elapsed": 1007,
     "status": "ok",
     "timestamp": 1599174266486,
     "user": {
      "displayName": "MATHEUS XAVIER SAMPAIO UFC",
      "photoUrl": "https://lh3.googleusercontent.com/a-/AOh14GgKclV5ScdNnarKMuaBwh0e6xxjDf3pBV0WXU6u=s64",
      "userId": "13506587245414265177"
     },
     "user_tz": 180
    },
    "id": "qkN7ry8eBAEG"
   },
   "outputs": [],
   "source": [
    "import pysptk\n",
    "import librosa\n",
    "import librosa.display\n",
    "import numpy as np\n",
    "import matplotlib.pyplot as plt\n",
    "from IPython import display"
   ]
  },
  {
   "cell_type": "code",
   "execution_count": null,
   "metadata": {
    "colab": {},
    "colab_type": "code",
    "executionInfo": {
     "elapsed": 635,
     "status": "ok",
     "timestamp": 1599174266488,
     "user": {
      "displayName": "MATHEUS XAVIER SAMPAIO UFC",
      "photoUrl": "https://lh3.googleusercontent.com/a-/AOh14GgKclV5ScdNnarKMuaBwh0e6xxjDf3pBV0WXU6u=s64",
      "userId": "13506587245414265177"
     },
     "user_tz": 180
    },
    "id": "XWg5fbkQO8f_"
   },
   "outputs": [],
   "source": [
    "plt.style.use('classic')\n",
    "display.set_matplotlib_formats('jpg', quality=94)"
   ]
  },
  {
   "cell_type": "markdown",
   "metadata": {
    "colab_type": "text",
    "id": "Vhh7K_Hs4o_m"
   },
   "source": [
    "## Audio Features"
   ]
  },
  {
   "cell_type": "code",
   "execution_count": null,
   "metadata": {
    "colab": {},
    "colab_type": "code",
    "executionInfo": {
     "elapsed": 888,
     "status": "ok",
     "timestamp": 1599174267606,
     "user": {
      "displayName": "MATHEUS XAVIER SAMPAIO UFC",
      "photoUrl": "https://lh3.googleusercontent.com/a-/AOh14GgKclV5ScdNnarKMuaBwh0e6xxjDf3pBV0WXU6u=s64",
      "userId": "13506587245414265177"
     },
     "user_tz": 180
    },
    "id": "AL_ky7K_AzLJ"
   },
   "outputs": [],
   "source": [
    "frame_length = 1024\n",
    "n_mels = 80\n",
    "hop_length = 256\n",
    "\n",
    "def spectrogram(filename, plot=True):\n",
    "    y, sr = librosa.load(filename)\n",
    "    \n",
    "    song, _ = librosa.effects.trim(y, top_db=40)\n",
    "\n",
    "    S = librosa.feature.melspectrogram(song, sr=sr, n_fft=frame_length, hop_length=hop_length, n_mels=n_mels)\n",
    "    S_DB = librosa.power_to_db(S, ref=np.max)\n",
    "    if plot:\n",
    "        librosa.display.specshow(S_DB, sr=sr, hop_length=hop_length, x_axis='time', y_axis='mel');\n",
    "        plt.colorbar(format='%+2.0f dB');\n",
    "    return S_DB, (song, sr)"
   ]
  },
  {
   "cell_type": "code",
   "execution_count": null,
   "metadata": {
    "colab": {},
    "colab_type": "code",
    "executionInfo": {
     "elapsed": 717,
     "status": "ok",
     "timestamp": 1599174268072,
     "user": {
      "displayName": "MATHEUS XAVIER SAMPAIO UFC",
      "photoUrl": "https://lh3.googleusercontent.com/a-/AOh14GgKclV5ScdNnarKMuaBwh0e6xxjDf3pBV0WXU6u=s64",
      "userId": "13506587245414265177"
     },
     "user_tz": 180
    },
    "id": "rF-_YxSu3WGH"
   },
   "outputs": [],
   "source": [
    "order = 25\n",
    "alpha = 0.41\n",
    "\n",
    "def f0_pitch_energy(path):\n",
    "    x, sr = librosa.load(path)\n",
    "    x, _ = librosa.effects.trim(x, top_db=40)\n",
    "\n",
    "    f0 = pysptk.swipe(x.astype(np.float64), fs=sr, hopsize=hop_length, min=60, max=240, otype=\"f0\")\n",
    "    pitch = pysptk.swipe(x.astype(np.float64), fs=sr, hopsize=hop_length, min=60, max=240, otype=\"pitch\")\n",
    "\n",
    "    frames = librosa.util.frame(x, frame_length=frame_length, hop_length=hop_length).astype(np.float64).T\n",
    "    frames *= pysptk.blackman(frame_length)\n",
    "    frames = frames[(frames != 0).all(axis=1)]\n",
    "    mc = pysptk.mcep(frames, order, alpha)\n",
    "    energy = pysptk.conversion.mc2e(mc)\n",
    "\n",
    "    return f0, pitch, energy"
   ]
  },
  {
   "cell_type": "markdown",
   "metadata": {
    "colab_type": "text",
    "id": "DvAPjWRc4YCQ"
   },
   "source": [
    "## Metrics"
   ]
  },
  {
   "cell_type": "code",
   "execution_count": null,
   "metadata": {
    "colab": {},
    "colab_type": "code",
    "executionInfo": {
     "elapsed": 1061,
     "status": "ok",
     "timestamp": 1599174269394,
     "user": {
      "displayName": "MATHEUS XAVIER SAMPAIO UFC",
      "photoUrl": "https://lh3.googleusercontent.com/a-/AOh14GgKclV5ScdNnarKMuaBwh0e6xxjDf3pBV0WXU6u=s64",
      "userId": "13506587245414265177"
     },
     "user_tz": 180
    },
    "id": "eRv9gLIdGU31"
   },
   "outputs": [],
   "source": [
    "from torch.nn import L1Loss\n",
    "from torch import tensor\n",
    "\n",
    "l1 = L1Loss()\n",
    "def L1(yhat, y):\n",
    "    loss = l1(tensor(yhat), tensor(y))\n",
    "    return loss.tolist()"
   ]
  },
  {
   "cell_type": "code",
   "execution_count": null,
   "metadata": {
    "colab": {},
    "colab_type": "code",
    "executionInfo": {
     "elapsed": 1245,
     "status": "ok",
     "timestamp": 1599174269814,
     "user": {
      "displayName": "MATHEUS XAVIER SAMPAIO UFC",
      "photoUrl": "https://lh3.googleusercontent.com/a-/AOh14GgKclV5ScdNnarKMuaBwh0e6xxjDf3pBV0WXU6u=s64",
      "userId": "13506587245414265177"
     },
     "user_tz": 180
    },
    "id": "FwMmdVpuHEoz"
   },
   "outputs": [],
   "source": [
    "from fastdtw import fastdtw\n",
    "from scipy.spatial.distance import euclidean\n",
    "\n",
    "def DTW(yhat, y):\n",
    "    distance, path = fastdtw(yhat, y, dist=euclidean)\n",
    "    return distance"
   ]
  },
  {
   "cell_type": "code",
   "execution_count": null,
   "metadata": {
    "colab": {},
    "colab_type": "code",
    "executionInfo": {
     "elapsed": 1062,
     "status": "ok",
     "timestamp": 1599174269815,
     "user": {
      "displayName": "MATHEUS XAVIER SAMPAIO UFC",
      "photoUrl": "https://lh3.googleusercontent.com/a-/AOh14GgKclV5ScdNnarKMuaBwh0e6xxjDf3pBV0WXU6u=s64",
      "userId": "13506587245414265177"
     },
     "user_tz": 180
    },
    "id": "EMJR2uFMHPaf"
   },
   "outputs": [],
   "source": [
    "from sklearn.metrics import mean_squared_error\n",
    "\n",
    "def RMSE(yhat, y):\n",
    "    return np.sqrt(mean_squared_error(yhat, y))"
   ]
  },
  {
   "cell_type": "code",
   "execution_count": null,
   "metadata": {
    "colab": {},
    "colab_type": "code",
    "executionInfo": {
     "elapsed": 919,
     "status": "ok",
     "timestamp": 1599174269815,
     "user": {
      "displayName": "MATHEUS XAVIER SAMPAIO UFC",
      "photoUrl": "https://lh3.googleusercontent.com/a-/AOh14GgKclV5ScdNnarKMuaBwh0e6xxjDf3pBV0WXU6u=s64",
      "userId": "13506587245414265177"
     },
     "user_tz": 180
    },
    "id": "1jSVdcot_Nto"
   },
   "outputs": [],
   "source": [
    "from torch.nn import CosineSimilarity\n",
    "from torch import tensor\n",
    "\n",
    "cosine = CosineSimilarity()\n",
    "def COSINE(yhat, y):\n",
    "    loss = cosine(tensor(yhat), tensor(y))\n",
    "    return loss.mean().tolist()"
   ]
  },
  {
   "cell_type": "markdown",
   "metadata": {
    "colab_type": "text",
    "id": "eoxPjTm34Rlq"
   },
   "source": [
    "## Comparing same sentences with Ground Truth"
   ]
  },
  {
   "cell_type": "code",
   "execution_count": null,
   "metadata": {
    "colab": {
     "base_uri": "https://localhost:8080/",
     "height": 1000,
     "output_embedded_package_id": "1MTjaLm4SCVT2bCPKoaTirjrDGva-8vTy"
    },
    "colab_type": "code",
    "executionInfo": {
     "elapsed": 199501,
     "status": "ok",
     "timestamp": 1599174486652,
     "user": {
      "displayName": "MATHEUS XAVIER SAMPAIO UFC",
      "photoUrl": "https://lh3.googleusercontent.com/a-/AOh14GgKclV5ScdNnarKMuaBwh0e6xxjDf3pBV0WXU6u=s64",
      "userId": "13506587245414265177"
     },
     "user_tz": 180
    },
    "id": "dzD50pyJJn15",
    "outputId": "260a3675-db35-4803-f78e-f4602fa9a431"
   },
   "outputs": [],
   "source": [
    "# https://edresson.github.io/TTS-Portuguese-Corpus/\n",
    "eval = dict()\n",
    "for model in ['dctts', 'tacotron', 'mozilla_tts']:\n",
    "    eval[model] = dict()\n",
    "    for metric in ['L1', 'DTW', 'RMSE', 'COSINE']:\n",
    "        eval[model][metric] = []\n",
    "\n",
    "for i in range(1, 21):\n",
    "    plt.figure(figsize=(22, 20));\n",
    "    plt.subplot(4, 4, 1);\n",
    "    print('Ground Truth')\n",
    "    display.display(display.Audio('ground_truth/{}.wav'.format(i)))\n",
    "    g_spec, _ = spectrogram('ground_truth/{}.wav'.format(i))\n",
    "    plt.title('Ground Truth');\n",
    "\n",
    "    for j, m in enumerate(['dctts', 'tacotron', 'mozilla_tts'], start=2):\n",
    "        plt.subplot(4, 4, j);\n",
    "        s_spec, s_sound = spectrogram('{}/{}.wav'.format(m, i))\n",
    "        plt.title(m);\n",
    "        if g_spec.shape[1] > s_spec.shape[1]:\n",
    "            a = np.zeros_like(g_spec)\n",
    "            a[:s_spec.shape[0], :s_spec.shape[1]] = s_spec\n",
    "            s_spec = a\n",
    "        else:\n",
    "            a = np.zeros_like(s_spec)\n",
    "            a[:g_spec.shape[0], :g_spec.shape[1]] = g_spec\n",
    "            g_spec = a\n",
    "        print(m)\n",
    "        for metric, n in zip([L1, DTW, RMSE, COSINE], ['L1', 'DTW', 'RMSE', 'COSINE']):\n",
    "            eval[m][n].append(metric(g_spec, s_spec))\n",
    "            print(n, ':', metric(g_spec, s_spec), end=',')\n",
    "        print()\n",
    "        display.display(display.Audio(data=s_sound[0], rate=s_sound[1]))\n",
    "        # plt.suptitle('Mel Spectrogram')\n",
    "    # plt.show()\n",
    "\n",
    "    k = i\n",
    "    gt = f0_pitch_energy(f'/content/ground_truth/{k}.wav')\n",
    "    dctts = f0_pitch_energy(f'/content/dctts/{k}.wav')\n",
    "    tacotron = f0_pitch_energy(f'/content/tacotron/{k}.wav')\n",
    "    mozilla = f0_pitch_energy(f'/content/mozilla_tts/{k}.wav')\n",
    "\n",
    "    for i, n in enumerate(['f0', 'pitch', 'energy']):\n",
    "        # plt.figure(figsize=(22, 4));\n",
    "        for j, m in enumerate(zip([gt, dctts, tacotron, mozilla], ['ground truth', 'dctts', 'tacotron', 'mozilla_tts'], ), start=j + 1):\n",
    "            plt.subplot(4, 4, j)\n",
    "            plt.plot(m[0][i])\n",
    "            plt.title('{} {}'.format(m[1], n))\n",
    "            # plt.suptitle(f'{n}')\n",
    "    plt.savefig('audio_model_comparasion/{}.png'.format(i))\n",
    "    plt.show()"
   ]
  },
  {
   "cell_type": "code",
   "execution_count": null,
   "metadata": {
    "colab": {
     "base_uri": "https://localhost:8080/",
     "height": 51
    },
    "colab_type": "code",
    "executionInfo": {
     "elapsed": 182199,
     "status": "ok",
     "timestamp": 1599174486659,
     "user": {
      "displayName": "MATHEUS XAVIER SAMPAIO UFC",
      "photoUrl": "https://lh3.googleusercontent.com/a-/AOh14GgKclV5ScdNnarKMuaBwh0e6xxjDf3pBV0WXU6u=s64",
      "userId": "13506587245414265177"
     },
     "user_tz": 180
    },
    "id": "SATzCGX-NCxb",
    "outputId": "16588d86-7a4d-4935-9abf-78cdd54aa7b5"
   },
   "outputs": [],
   "source": [
    "!zip -r audio_model_comparasion.zip audio_model_comparasion\n",
    "!cp  audio_model_comparasion.zip '/content/drive/My Drive/TCC_data/'"
   ]
  },
  {
   "cell_type": "code",
   "execution_count": null,
   "metadata": {
    "colab": {
     "base_uri": "https://localhost:8080/",
     "height": 323
    },
    "colab_type": "code",
    "executionInfo": {
     "elapsed": 181993,
     "status": "ok",
     "timestamp": 1599174486661,
     "user": {
      "displayName": "MATHEUS XAVIER SAMPAIO UFC",
      "photoUrl": "https://lh3.googleusercontent.com/a-/AOh14GgKclV5ScdNnarKMuaBwh0e6xxjDf3pBV0WXU6u=s64",
      "userId": "13506587245414265177"
     },
     "user_tz": 180
    },
    "id": "6yuGpyzUS56h",
    "outputId": "e0804032-ea39-4135-d450-913ecfb6938d"
   },
   "outputs": [],
   "source": [
    "for model, metrics in eval.items():\n",
    "    print(model)\n",
    "    for name, metric in metrics.items():\n",
    "        print(name, np.mean(metric))\n",
    "    print('*' * 80)"
   ]
  },
  {
   "cell_type": "code",
   "execution_count": null,
   "metadata": {
    "colab": {},
    "colab_type": "code",
    "executionInfo": {
     "elapsed": 75932,
     "status": "aborted",
     "timestamp": 1599174247810,
     "user": {
      "displayName": "MATHEUS XAVIER SAMPAIO UFC",
      "photoUrl": "https://lh3.googleusercontent.com/a-/AOh14GgKclV5ScdNnarKMuaBwh0e6xxjDf3pBV0WXU6u=s64",
      "userId": "13506587245414265177"
     },
     "user_tz": 180
    },
    "id": "Y2k60v_CMGLF"
   },
   "outputs": [],
   "source": []
  }
 ],
 "metadata": {
  "colab": {
   "authorship_tag": "ABX9TyPbRB0kMnL3KMcyYpGcuqGn",
   "collapsed_sections": [],
   "mount_file_id": "1ZkrH9zNh7RurppeI0-fd6KCGuDy66Agt",
   "name": "tts_metrics.ipynb",
   "provenance": []
  },
  "kernelspec": {
   "display_name": "Python 3",
   "language": "python",
   "name": "python3"
  },
  "language_info": {
   "codemirror_mode": {
    "name": "ipython",
    "version": 3
   },
   "file_extension": ".py",
   "mimetype": "text/x-python",
   "name": "python",
   "nbconvert_exporter": "python",
   "pygments_lexer": "ipython3",
   "version": "3.7.9"
  }
 },
 "nbformat": 4,
 "nbformat_minor": 4
}
