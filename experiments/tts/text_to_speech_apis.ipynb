{
 "cells": [
  {
   "cell_type": "markdown",
   "metadata": {
    "colab_type": "text",
    "id": "hKjKjvzuywmj"
   },
   "source": [
    "# Text to Speech"
   ]
  },
  {
   "cell_type": "markdown",
   "metadata": {
    "colab_type": "text",
    "id": "0qa8j_UFyykU"
   },
   "source": [
    "## Install and Imports"
   ]
  },
  {
   "cell_type": "code",
   "execution_count": null,
   "metadata": {
    "colab": {},
    "colab_type": "code",
    "id": "0du9nW-qb8xu"
   },
   "outputs": [],
   "source": [
    "!pip install azure-cognitiveservices-speech python-dotenv pydub google-cloud-texttospeech ibm-watson ibm-cloud-sdk-core"
   ]
  },
  {
   "cell_type": "code",
   "execution_count": null,
   "metadata": {
    "colab": {},
    "colab_type": "code",
    "id": "i_AVWFJ5c0bR"
   },
   "outputs": [],
   "source": [
    "from dotenv import load_dotenv\n",
    "import os\n",
    "import azure.cognitiveservices.speech as speechsdk\n",
    "from google.cloud import texttospeech\n",
    "import boto3\n",
    "import time\n",
    "from pydub import AudioSegment\n",
    "from datetime import datetime\n",
    "import pandas as pd\n",
    "from pathlib import Path\n",
    "from IPython.display import display\n",
    "import textwrap\n",
    "from ibm_watson import TextToSpeechV1\n",
    "from ibm_cloud_sdk_core.authenticators import IAMAuthenticator"
   ]
  },
  {
   "cell_type": "code",
   "execution_count": null,
   "metadata": {
    "colab": {
     "base_uri": "https://localhost:8080/",
     "height": 34
    },
    "colab_type": "code",
    "id": "N6GohedmcYqX",
    "outputId": "1d9a9a57-85d2-41e8-cce1-e82de8e4d1cb"
   },
   "outputs": [],
   "source": [
    "data_path = Path('/content/drive/My Drive/TCC_data/speech2Text')\n",
    "env_path = Path('/content/drive/My Drive/Colab Notebooks') / '.env'\n",
    "\n",
    "load_dotenv(dotenv_path=env_path)"
   ]
  },
  {
   "cell_type": "code",
   "execution_count": null,
   "metadata": {
    "colab": {},
    "colab_type": "code",
    "id": "GFkR-7X22pYu"
   },
   "outputs": [],
   "source": [
    "wrapper = textwrap.TextWrapper(width=80)\n",
    "\n",
    "def wrap_print(text):\n",
    "    for element in wrapper.wrap(text=text):\n",
    "        print(element)"
   ]
  },
  {
   "cell_type": "code",
   "execution_count": null,
   "metadata": {
    "colab": {},
    "colab_type": "code",
    "id": "Yl5vP2mod-g-"
   },
   "outputs": [],
   "source": [
    "def play_audio_file(file_path):\n",
    "    with open(file_path, 'rb') as riff:\n",
    "        audio = AudioSegment.from_file(riff)\n",
    "    return audio"
   ]
  },
  {
   "cell_type": "code",
   "execution_count": null,
   "metadata": {
    "colab": {},
    "colab_type": "code",
    "id": "aBmPECH7nYPr"
   },
   "outputs": [],
   "source": [
    "def generate_filename(base_name, ext, root='.'):\n",
    "    root = str(root)\n",
    "    return '{}/{}_{}.{}'.format(\n",
    "        root, base_name, datetime.now().strftime('%d-%m-%Y_%H:%M:%S'), ext\n",
    "    )"
   ]
  },
  {
   "cell_type": "code",
   "execution_count": null,
   "metadata": {
    "colab": {
     "base_uri": "https://localhost:8080/",
     "height": 35
    },
    "colab_type": "code",
    "id": "Rqk3qrr7A172",
    "outputId": "a4f2021d-494a-47f2-a74c-4214eda05625"
   },
   "outputs": [],
   "source": [
    "generate_filename('a', 'wav', data_path / 'tts_tests')"
   ]
  },
  {
   "cell_type": "markdown",
   "metadata": {
    "colab_type": "text",
    "id": "KGJcL08gy4HY"
   },
   "source": [
    "## Azure Cognitive Services"
   ]
  },
  {
   "cell_type": "code",
   "execution_count": null,
   "metadata": {
    "colab": {},
    "colab_type": "code",
    "id": "orgy5Y4Tc8RV"
   },
   "outputs": [],
   "source": [
    "def syntesize_text_azure(text,  audio_filename):\n",
    "    # Replace with your own subscription key and region identifier from here: https://aka.ms/speech/sdkregion\n",
    "    speech_key, service_region = os.getenv(\"AZURE_KEY\"), os.getenv(\"AZURE_REGION\")\n",
    "    speech_language = \"pt-BR\"\n",
    "    speech_config = speechsdk.SpeechConfig(\n",
    "        subscription=speech_key, \n",
    "        region=service_region,\n",
    "        speech_recognition_language=speech_language\n",
    "    )\n",
    "\n",
    "    SSML = \"\"\"\n",
    "    <speak xmlns=\"http://www.w3.org/2001/10/synthesis\" xmlns:mstts=\"http://www.w3.org/2001/mstts\" xmlns:emo=\"http://www.w3.org/2009/10/emotionml\" version=\"1.0\" xml:lang=\"en-US\">\n",
    "        <voice name=\"pt-BR-HeloisaRUS\">\n",
    "            <mstts:express-as style=\"General\">\n",
    "                <prosody rate=\"0%\" pitch=\"0%\">\n",
    "                {}\n",
    "                </prosody>\n",
    "            </mstts:express-as>\n",
    "        </voice>\n",
    "    </speak>\n",
    "    \"\"\"\n",
    "\n",
    "    # Creates an audio configuration that points to an audio file.\n",
    "    # Replace with your own audio filename.\n",
    "    audio_output = speechsdk.audio.AudioOutputConfig(filename=audio_filename)\n",
    "    \n",
    "    # Creates a synthesizer with the given settings\n",
    "    speech_synthesizer = speechsdk.SpeechSynthesizer(\n",
    "        speech_config=speech_config, audio_config=audio_output\n",
    "    )\n",
    "\n",
    "    # Synthesizes the text to speech.\n",
    "    # Replace with your own text.\n",
    "    text = SSML.format(text)\n",
    "    result = speech_synthesizer.speak_ssml_async(text).get()\n",
    "    \n",
    "    return play_audio_file(audio_filename)"
   ]
  },
  {
   "cell_type": "markdown",
   "metadata": {
    "colab_type": "text",
    "id": "eIZNrCuVy7se"
   },
   "source": [
    "## Google Cloud Text To Speech"
   ]
  },
  {
   "cell_type": "code",
   "execution_count": null,
   "metadata": {
    "colab": {},
    "colab_type": "code",
    "id": "i9JAp0L0js6D"
   },
   "outputs": [],
   "source": [
    "def syntesize_text_gcloud(text, audio_filename):\n",
    "    GOOGLE_APPLICATION_CREDENTIALS = os.getenv('GOOGLE_APPLICATION_CREDENTIALS')\n",
    "\n",
    "    # Instantiates a client\n",
    "    client = texttospeech.TextToSpeechClient.from_service_account_json(\n",
    "        GOOGLE_APPLICATION_CREDENTIALS\n",
    "    )\n",
    "\n",
    "    # Set the text input to be synthesized\n",
    "    synthesis_input = texttospeech.SynthesisInput(text=text)\n",
    "\n",
    "    # Build the voice request, select the language code (\"en-US\") and the ssml\n",
    "    # voice gender (\"neutral\")\n",
    "    voice = texttospeech.VoiceSelectionParams(\n",
    "        language_code='pt-BR',\n",
    "        name='pt-BR-Standard-A',\n",
    "        ssml_gender=texttospeech.SsmlVoiceGender.NEUTRAL\n",
    "    )\n",
    "\n",
    "    # Select the type of audio file you want returned\n",
    "    audio_config = texttospeech.AudioConfig(\n",
    "        audio_encoding=texttospeech.AudioEncoding.LINEAR16\n",
    "    )\n",
    "\n",
    "    # Perform the text-to-speech request on the text input with the selected\n",
    "    # voice parameters and audio file type\n",
    "    response = client.synthesize_speech(\n",
    "        input=synthesis_input, voice=voice, audio_config=audio_config\n",
    "    )\n",
    "\n",
    "    # The response's audio_content is binary.\n",
    "    with open(audio_filename, 'wb') as out:\n",
    "        # Write the response to the output file.\n",
    "        out.write(response.audio_content)\n",
    "\n",
    "    return play_audio_file(audio_filename)"
   ]
  },
  {
   "cell_type": "markdown",
   "metadata": {
    "colab_type": "text",
    "id": "BCoi_vbizAtc"
   },
   "source": [
    "## AWS Polly"
   ]
  },
  {
   "cell_type": "code",
   "execution_count": null,
   "metadata": {
    "colab": {},
    "colab_type": "code",
    "id": "fvOsU6q2tNQB"
   },
   "outputs": [],
   "source": [
    "def syntesize_text_aws(text, audio_filename):\n",
    "    AWS_ACCESS_KEY_ID = os.getenv('AWS_ACCESS_KEY_ID')\n",
    "    AWS_SECRET_ACCESS_KEY = os.getenv('AWS_SECRET_ACCESS_KEY')\n",
    "    AWS_REGION = os.getenv('AWS_REGION')\n",
    "    polly_client = boto3.Session(\n",
    "        aws_access_key_id=AWS_ACCESS_KEY_ID,                     \n",
    "        aws_secret_access_key=AWS_SECRET_ACCESS_KEY,\n",
    "        region_name=AWS_REGION\n",
    "    ).client('polly')\n",
    "\n",
    "    response = polly_client.synthesize_speech(\n",
    "        VoiceId='Vitoria',\n",
    "        OutputFormat='mp3', \n",
    "        Text=text\n",
    "    )\n",
    "\n",
    "    with open(audio_filename, 'wb') as out:\n",
    "        # Write the response to the output file.\n",
    "        out.write(response['AudioStream'].read())\n",
    "\n",
    "    return play_audio_file(audio_filename)"
   ]
  },
  {
   "cell_type": "markdown",
   "metadata": {
    "colab_type": "text",
    "id": "8C6gW8GYzCVO"
   },
   "source": [
    "## IBM Watson"
   ]
  },
  {
   "cell_type": "code",
   "execution_count": null,
   "metadata": {
    "colab": {},
    "colab_type": "code",
    "id": "lJx9gEvk6KIj"
   },
   "outputs": [],
   "source": [
    "def syntesize_text_watson(text, audio_filename):\n",
    "    key = os.getenv('WATSON_KEY')\n",
    "    url = os.getenv('WATSON_URL')\n",
    "\n",
    "    authenticator = IAMAuthenticator(key)\n",
    "\n",
    "    text_to_speech = TextToSpeechV1(\n",
    "        authenticator=authenticator\n",
    "    )\n",
    "\n",
    "    text_to_speech.set_service_url(url)\n",
    "\n",
    "    with open(audio_filename, 'wb') as audio_file:\n",
    "        audio_file.write(\n",
    "            text_to_speech.synthesize(\n",
    "                text,\n",
    "                voice='pt-BR_IsabelaVoice',\n",
    "                accept='audio/wav'        \n",
    "            ).get_result().content)\n",
    "\n",
    "    return play_audio_file(audio_filename)"
   ]
  },
  {
   "cell_type": "markdown",
   "metadata": {
    "colab_type": "text",
    "id": "pTWUddsazEfk"
   },
   "source": [
    "## Tests"
   ]
  },
  {
   "cell_type": "code",
   "execution_count": null,
   "metadata": {
    "colab": {},
    "colab_type": "code",
    "id": "jKlSYAmX009j"
   },
   "outputs": [],
   "source": [
    "texts = [\n",
    "    \"Heloísa é a professora de uma turma de crianças de 6 anos. Ela adora contar histórias para seus alunos, no final do horário, as crianças sentam-se no chão de frente para a professora, ficam quietinhas e curiosas, aguardam\",\n",
    "    \"Margaridinha  Branca dormia na sua casa, embaixo da terra.\",\n",
    "    \"O rato roeu a roupa do rei de roma, a rainha com raiva rasgou o resto.\",\n",
    "    \"Dona Aranha subiu pela parede, veio a chuva forte e a derrubou, já passou a chuva e o sol já vem surgindo\"\n",
    "    \"e a dona aranha continua a subir. Ela é teimosa,desobediente. sobe, sobe, sobe nunca está contente!\",\n",
    "    \"Celina ama os animais. Ela tem uma gatinha chamada Viola.\"\n",
    "]\n",
    "\n",
    "lengths = [*map(len, texts)]"
   ]
  },
  {
   "cell_type": "code",
   "execution_count": null,
   "metadata": {
    "colab": {},
    "colab_type": "code",
    "id": "y7JYobBQzIpP"
   },
   "outputs": [],
   "source": [
    "def benchmark():\n",
    "\n",
    "    benchmark_apis = {\n",
    "        'azure_cognitive_services': {\n",
    "                'call': syntesize_text_azure,\n",
    "                'ext': 'wav'\n",
    "            },\n",
    "        'watson_text_to_speech': {\n",
    "            'call': syntesize_text_watson,\n",
    "            'ext': 'wav'\n",
    "        },\n",
    "        'aws_polly': {\n",
    "            'call': syntesize_text_aws,\n",
    "            'ext': 'mp3'\n",
    "        },\n",
    "        'gcloud_text_to_speech': {\n",
    "            'call': syntesize_text_gcloud,\n",
    "            'ext': 'wav'\n",
    "        },\n",
    "    }\n",
    "\n",
    "    for api in benchmark_apis:\n",
    "        for col in ['file', 'text', 'length', 'time']:\n",
    "            benchmark_apis[api][col] = []\n",
    "\n",
    "    for api in benchmark_apis:\n",
    "\n",
    "        print(api)\n",
    "        start_api = time.time()\n",
    "        api_call = benchmark_apis[api]['call']\n",
    "        ext = benchmark_apis[api]['ext']\n",
    "        \n",
    "        for text, length in zip(texts, lengths):\n",
    "            file_name = generate_filename(api, ext, root=data_path / 'tts_tests')\n",
    "\n",
    "            start_syntesis = time.time()\n",
    "            display(api_call(text, file_name))\n",
    "            total_time_syntesis = time.time() - start_syntesis\n",
    "\n",
    "            file_name = file_name.split('/')[-1]\n",
    "    \n",
    "            benchmark_apis[api]['file'].append(file_name)\n",
    "            benchmark_apis[api]['length'].append(length)\n",
    "            benchmark_apis[api]['text'].append(text)\n",
    "            benchmark_apis[api]['time'].append(total_time_syntesis)\n",
    "\n",
    "        total_time_api = time.time() - start_api\n",
    "        print('took {} seconds'.format(total_time_api))\n",
    "        print('#' * 80)\n",
    "    \n",
    "    return benchmark_apis"
   ]
  },
  {
   "cell_type": "code",
   "execution_count": null,
   "metadata": {
    "colab": {
     "base_uri": "https://localhost:8080/",
     "height": 1000
    },
    "colab_type": "code",
    "id": "sHOZcE0U1I3j",
    "outputId": "0b3bcd5d-619c-46bf-c291-a089867e794d"
   },
   "outputs": [],
   "source": [
    "results = benchmark()"
   ]
  },
  {
   "cell_type": "code",
   "execution_count": null,
   "metadata": {
    "colab": {},
    "colab_type": "code",
    "id": "qCnehpwk1MPf"
   },
   "outputs": [],
   "source": [
    "dataframes = dict()\n",
    "\n",
    "for api in results:\n",
    "    dataframes[api] = pd.DataFrame(results[api]).drop(columns=['call', 'ext'])"
   ]
  },
  {
   "cell_type": "code",
   "execution_count": null,
   "metadata": {
    "colab": {},
    "colab_type": "code",
    "id": "rsJfmRo-2kpb"
   },
   "outputs": [],
   "source": [
    "for api, df in dataframes.items():\n",
    "    df.to_csv(data_path / 'tts_tests' / '{}.csv'.format(api), index=False)"
   ]
  },
  {
   "cell_type": "code",
   "execution_count": null,
   "metadata": {
    "colab": {},
    "colab_type": "code",
    "id": "f7cWx_32_r-t"
   },
   "outputs": [],
   "source": []
  }
 ],
 "metadata": {
  "colab": {
   "collapsed_sections": [
    "0qa8j_UFyykU"
   ],
   "name": "text_to_speech.ipynb",
   "provenance": []
  },
  "kernelspec": {
   "display_name": "Python 3",
   "language": "python",
   "name": "python3"
  },
  "language_info": {
   "codemirror_mode": {
    "name": "ipython",
    "version": 3
   },
   "file_extension": ".py",
   "mimetype": "text/x-python",
   "name": "python",
   "nbconvert_exporter": "python",
   "pygments_lexer": "ipython3",
   "version": "3.7.9"
  }
 },
 "nbformat": 4,
 "nbformat_minor": 4
}
