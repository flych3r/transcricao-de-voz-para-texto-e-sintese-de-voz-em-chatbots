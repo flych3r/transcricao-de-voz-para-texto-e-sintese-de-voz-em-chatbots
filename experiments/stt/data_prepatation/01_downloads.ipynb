{
 "cells": [
  {
   "cell_type": "code",
   "execution_count": null,
   "metadata": {
    "colab": {},
    "colab_type": "code",
    "id": "jYSAVskhFEAz"
   },
   "outputs": [],
   "source": [
    "import glob\n",
    "import os\n",
    "import pandas as pd"
   ]
  },
  {
   "cell_type": "markdown",
   "metadata": {
    "colab_type": "text",
    "id": "h3j9PKpB6LiJ"
   },
   "source": [
    "## Embeddings"
   ]
  },
  {
   "cell_type": "code",
   "execution_count": null,
   "metadata": {
    "colab": {},
    "colab_type": "code",
    "id": "QrkKUO8b6K3Y"
   },
   "outputs": [],
   "source": [
    "!wget -O 'embeddings/word2vec_cbow_s50.zip' 'http://143.107.183.175:22980/download.php?file=embeddings/word2vec/cbow_s50.zip'\n",
    "!wget -O 'embeddings/word2vec_skip_s50.zip' 'http://143.107.183.175:22980/download.php?file=embeddings/word2vec/skip_s50.zip'\n",
    "!wget -O 'embeddings/wang2vec_cbow_s50.zip' 'http://143.107.183.175:22980/download.php?file=embeddings/wang2vec/cbow_s50.zip'\n",
    "!wget -O 'embeddings/wang2vec_skip_s50.zip' 'http://143.107.183.175:22980/download.php?file=embeddings/wang2vec/skip_s50.zip'"
   ]
  },
  {
   "cell_type": "code",
   "execution_count": null,
   "metadata": {
    "colab": {},
    "colab_type": "code",
    "id": "dQVbwuV46UBo"
   },
   "outputs": [],
   "source": [
    "!cp embeddings /content/drive/My Drive/TCC_data/embeddings/"
   ]
  },
  {
   "cell_type": "markdown",
   "metadata": {
    "colab_type": "text",
    "id": "dfv5mbxV58T_"
   },
   "source": [
    "## Mozila"
   ]
  },
  {
   "cell_type": "code",
   "execution_count": null,
   "metadata": {
    "colab": {},
    "colab_type": "code",
    "id": "TWG1jDRe57sE"
   },
   "outputs": [],
   "source": [
    "!wget 'https://voice-prod-bundler-ee1969a6ce8178826482b88e843c335139bd3fb4.s3.amazonaws.com/cv-corpus-5.1-2020-06-22/pt.tar.gz'\n",
    "!tar -xzf pt.tar.gz\n",
    "\n",
    "df = pd.read_csv('cv-corpus-5.1-2020-06-22/pt/validated.tsv', sep='\\t')\n",
    "dfs = dict()\n",
    "\n",
    "genders = df['gender'].dropna().unique()\n",
    "ages = df['age'].dropna().unique()\n",
    "\n",
    "for gender in genders:\n",
    "    _df = df[df['gender'] == gender]\n",
    "    for age in ages:\n",
    "        dfs['{}_{}'.format(gender, age)] = _df[_df['age'] == age]\n",
    "\n",
    "final_df = pd.DataFrame(columns=df.columns)\n",
    "for v in dfs.values():\n",
    "    final_df = final_df.append(v.sample(min(1500, len(v))))\n",
    "\n",
    "final_df = final_df.sample(frac=1)\n",
    "final_df.reset_index(inplace=True, drop=True)\n",
    "final_df.rename(columns={'path': 'filepath'}, inplace=True)\n",
    "\n",
    "# os.makedirs('mozilla/wav')\n",
    "for f in final_df['filepath'].values:\n",
    "    os.rename('/content/cv-corpus-5.1-2020-06-22/pt/clips/{}'.format(f), 'mozilla/wav/{}'.format(f))\n",
    "\n",
    "final_df['filepath'] = final_df['filepath'].apply(lambda x: 'mozilla/wav/{}'.format(x))\n",
    "final_df.to_csv('mozilla/sentences.tsv', sep='\\t', index=False)"
   ]
  },
  {
   "cell_type": "code",
   "execution_count": null,
   "metadata": {
    "colab": {},
    "colab_type": "code",
    "id": "obOHfwCMWqpC"
   },
   "outputs": [],
   "source": [
    "!zip -r mozilla.zip mozilla\n",
    "!cp mozilla.zip '/content/drive/My Drive/TCC_data/corpus/'"
   ]
  },
  {
   "cell_type": "markdown",
   "metadata": {
    "colab_type": "text",
    "id": "DMxgJtJazX6c"
   },
   "source": [
    "## Voxforge"
   ]
  },
  {
   "cell_type": "code",
   "execution_count": null,
   "metadata": {
    "colab": {},
    "colab_type": "code",
    "id": "rWbAL91szW5m"
   },
   "outputs": [],
   "source": [
    "%%bash\n",
    "#!/bin/bash\n",
    "\n",
    "wget -r -l1  http://www.repository.voxforge1.org/downloads/pt/Trunk/Audio/Original/48kHz_16bit/\n",
    "mkdir voxforge\n",
    "mkdir voxforge/wav\n",
    "cd www.repository.voxforge1.org\n",
    "find . -name '*.tgz' -exec tar zxvf '{}' \\;\n",
    "find . -name '*.wav' -exec mv --backup=t '{}' ../voxforge/wav \\;\n",
    "find . -name 'prompts-original' -exec cat '{}' >> ../voxforge/sentences.txt \\;\n",
    "cd ../voxforge/wav\n",
    "rename 's/((?:\\..+)?)\\.~(\\d+)~$/_$2$1/' *.~*~\n",
    "rm ar*.wav\n",
    "rm rp*.wav\n",
    "cd ../\n",
    "sort sentences.txt | uniq -d > tmp && mv tmp sentences.txt\n",
    "sed -i '/^ar-/d' sentences.txt\n",
    "sed -i '/^rp-/d' sentences.txt"
   ]
  },
  {
   "cell_type": "code",
   "execution_count": null,
   "metadata": {
    "colab": {},
    "colab_type": "code",
    "id": "lgypEiYrzSYl"
   },
   "outputs": [],
   "source": [
    "with open('voxforge/sentences.txt') as f:\n",
    "    sentences = f.read().split('\\n')\n",
    "    sentences = [s.split(' ') for s in sentences]\n",
    "    sentences = {s[0]: ' '.join(s[1:]).strip() for s in sentences}\n",
    "    del sentences['']"
   ]
  },
  {
   "cell_type": "code",
   "execution_count": null,
   "metadata": {
    "colab": {},
    "colab_type": "code",
    "id": "Jaqi8RAh2opb"
   },
   "outputs": [],
   "source": [
    "filepath = []\n",
    "sentence = []\n",
    "for fname in glob.glob('voxforge/wav/*.wav'):\n",
    "    _id = fname.split('/')[-1]\n",
    "    _id = _id.split('.')[0].split('_')[0]\n",
    "    filepath.append(fname)\n",
    "    sentence.append(sentences[_id])"
   ]
  },
  {
   "cell_type": "code",
   "execution_count": null,
   "metadata": {
    "colab": {},
    "colab_type": "code",
    "id": "wZOBJeTu4ahu"
   },
   "outputs": [],
   "source": [
    "pd.DataFrame(\n",
    "    {'filepath': filepath, 'sentence': sentence}\n",
    ").to_csv('voxforge/sentences.tsv', sep='\\t', index=False)"
   ]
  },
  {
   "cell_type": "code",
   "execution_count": null,
   "metadata": {
    "colab": {},
    "colab_type": "code",
    "id": "mYL9wR9i5jys"
   },
   "outputs": [],
   "source": [
    "!rm voxforge/sentences.txt\n",
    "!zip -r voxforge.zip voxforge\n",
    "!cp voxforge.zip '/content/drive/My Drive/TCC_data/corpus/'"
   ]
  },
  {
   "cell_type": "markdown",
   "metadata": {
    "colab_type": "text",
    "id": "xHAKd4SN63W2"
   },
   "source": [
    "## Código de Defesa do Consumidor"
   ]
  },
  {
   "cell_type": "code",
   "execution_count": null,
   "metadata": {
    "colab": {},
    "colab_type": "code",
    "id": "Jyjxy7z56vNN"
   },
   "outputs": [],
   "source": [
    "%%bash\n",
    "#!/bin/bash\n",
    "\n",
    "wget https://gitlab.com/fb-audio-corpora/codigodefesaconsumidor16k/-/archive/master/codigodefesaconsumidor16k-master.zip\n",
    "unzip codigodefesaconsumidor16k-master.zip\n",
    "mkdir cod_def_cons\n",
    "mkdir cod_def_cons/wav\n",
    "mv codigodefesaconsumidor16k-master/*.wav cod_def_cons/wav"
   ]
  },
  {
   "cell_type": "code",
   "execution_count": null,
   "metadata": {
    "colab": {},
    "colab_type": "code",
    "id": "k77S66R57rws"
   },
   "outputs": [],
   "source": [
    "files = glob.glob('cod_def_cons/wav/*.wav')\n",
    "\n",
    "filepath = []\n",
    "sentence = []\n",
    "for a in files:\n",
    "    fname = a.split('/')[-1].split('.')[0]\n",
    "    with open('codigodefesaconsumidor16k-master/{}.txt'.format(fname)) as f:\n",
    "        sent = f.read().strip()\n",
    "    filepath.append(a)\n",
    "    sentence.append(sent)"
   ]
  },
  {
   "cell_type": "code",
   "execution_count": null,
   "metadata": {
    "colab": {},
    "colab_type": "code",
    "id": "-mIaRDVa9bbl"
   },
   "outputs": [],
   "source": [
    "pd.DataFrame(\n",
    "    {'filepath': filepath, 'sentence': sentence}\n",
    ").to_csv('cod_def_cons/sentences.tsv', sep='\\t', index=False)"
   ]
  },
  {
   "cell_type": "code",
   "execution_count": null,
   "metadata": {
    "colab": {},
    "colab_type": "code",
    "id": "BMdzkncP9vCt"
   },
   "outputs": [],
   "source": [
    "!zip -r cod_def_cons.zip cod_def_cons\n",
    "!cp cod_def_cons.zip '/content/drive/My Drive/TCC_data/corpus/'"
   ]
  },
  {
   "cell_type": "markdown",
   "metadata": {
    "colab_type": "text",
    "id": "LmfGCio1-cG4"
   },
   "source": [
    "## Constituição"
   ]
  },
  {
   "cell_type": "code",
   "execution_count": null,
   "metadata": {
    "colab": {},
    "colab_type": "code",
    "id": "uTmuXtd_97qi"
   },
   "outputs": [],
   "source": [
    "%%bash\n",
    "#!/bin/bash\n",
    "\n",
    "wget https://gitlab.com/fb-audio-corpora/constituicao16k/-/archive/master/constituicao16k-master.zip\n",
    "unzip constituicao16k-master.zip\n",
    "mkdir constituicao\n",
    "mkdir constituicao/wav\n",
    "mv constituicao16k-master/*.wav constituicao/wav/"
   ]
  },
  {
   "cell_type": "code",
   "execution_count": null,
   "metadata": {
    "colab": {},
    "colab_type": "code",
    "id": "yXB34uV-_mtv"
   },
   "outputs": [],
   "source": [
    "files = glob.glob('constituicao/wav/*.wav')\n",
    "\n",
    "filepath = []\n",
    "sentence = []\n",
    "for a in files:\n",
    "    fname = a.split('/')[-1].split('.')[0]\n",
    "    with open('constituicao16k-master/{}.txt'.format(fname)) as f:\n",
    "        sent = f.read().strip()\n",
    "    filepath.append(a)\n",
    "    sentence.append(sent)"
   ]
  },
  {
   "cell_type": "code",
   "execution_count": null,
   "metadata": {
    "colab": {},
    "colab_type": "code",
    "id": "jzwrMxAWAHvn"
   },
   "outputs": [],
   "source": [
    "pd.DataFrame(\n",
    "    {'filepath': filepath, 'sentence': sentence}\n",
    ").to_csv('constituicao/sentences.tsv', sep='\\t', index=False)"
   ]
  },
  {
   "cell_type": "code",
   "execution_count": null,
   "metadata": {
    "colab": {},
    "colab_type": "code",
    "id": "JEIdTvlgAPo1"
   },
   "outputs": [],
   "source": [
    "!zip -r constituicao.zip constituicao\n",
    "!cp constituicao.zip '/content/drive/My Drive/TCC_data/corpus/'"
   ]
  },
  {
   "cell_type": "code",
   "execution_count": null,
   "metadata": {
    "colab": {},
    "colab_type": "code",
    "id": "o6q6AfnSAz0I"
   },
   "outputs": [],
   "source": [
    "%%bash\n",
    "#!/bin/bash\n",
    "\n",
    "wget https://gitlab.com/fb-audio-corpora/lapsbm16k/-/archive/master/lapsbm16k-master.zip\n",
    "unzip lapsbm16k-master.zip\n",
    "mkdir lapsbm\n",
    "mkdir lapsbm/wav\n",
    "mkdir lapsbm/txt\n",
    "find lapsbm16k-master/ -name '*.wav' -exec mv '{}' lapsbm/wav \\;\n",
    "find lapsbm16k-master/ -name '*.txt' -exec mv '{}' lapsbm/txt \\;"
   ]
  },
  {
   "cell_type": "code",
   "execution_count": null,
   "metadata": {
    "colab": {},
    "colab_type": "code",
    "id": "CxKq9G6zB1Lj"
   },
   "outputs": [],
   "source": [
    "files = glob.glob('lapsbm/wav/*.wav')\n",
    "\n",
    "filepath = []\n",
    "sentence = []\n",
    "for a in files:\n",
    "    fname = a.split('/')[-1].split('.')[0]\n",
    "    with open('lapsbm/txt/{}.txt'.format(fname)) as f:\n",
    "        sent = f.read().strip()\n",
    "    filepath.append(a)\n",
    "    sentence.append(sent)"
   ]
  },
  {
   "cell_type": "code",
   "execution_count": null,
   "metadata": {
    "colab": {},
    "colab_type": "code",
    "id": "eVAU9knqC7U5"
   },
   "outputs": [],
   "source": [
    "pd.DataFrame(\n",
    "    {'filepath': filepath, 'sentence': sentence}\n",
    ").to_csv('lapsbm/sentences.tsv', sep='\\t', index=False)"
   ]
  },
  {
   "cell_type": "code",
   "execution_count": null,
   "metadata": {
    "colab": {},
    "colab_type": "code",
    "id": "nV4Fj2AaC9z0"
   },
   "outputs": [],
   "source": [
    "!rm -rf lapsbm/txt/\n",
    "!zip -r lapsbm.zip lapsbm\n",
    "!cp lapsbm.zip '/content/drive/My Drive/TCC_data/corpus/'"
   ]
  },
  {
   "cell_type": "code",
   "execution_count": null,
   "metadata": {
    "colab": {},
    "colab_type": "code",
    "id": "pNCSkea1Gb75"
   },
   "outputs": [],
   "source": []
  }
 ],
 "metadata": {
  "colab": {
   "collapsed_sections": [
    "h3j9PKpB6LiJ",
    "dfv5mbxV58T_",
    "DMxgJtJazX6c",
    "xHAKd4SN63W2",
    "LmfGCio1-cG4",
    "xgbBKeCKA1DL"
   ],
   "name": "downloads.ipynb",
   "provenance": [],
   "toc_visible": true
  },
  "kernelspec": {
   "display_name": "Python 3",
   "language": "python",
   "name": "python3"
  },
  "language_info": {
   "codemirror_mode": {
    "name": "ipython",
    "version": 3
   },
   "file_extension": ".py",
   "mimetype": "text/x-python",
   "name": "python",
   "nbconvert_exporter": "python",
   "pygments_lexer": "ipython3",
   "version": "3.7.9"
  }
 },
 "nbformat": 4,
 "nbformat_minor": 4
}
