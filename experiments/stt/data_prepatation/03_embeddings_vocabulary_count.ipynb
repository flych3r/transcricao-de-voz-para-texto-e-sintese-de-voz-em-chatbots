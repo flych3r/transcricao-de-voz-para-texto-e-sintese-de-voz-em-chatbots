{
 "cells": [
  {
   "cell_type": "markdown",
   "metadata": {
    "colab_type": "text",
    "id": "h1C7ZCRd9FCi"
   },
   "source": [
    "# Evaluate vocabulary"
   ]
  },
  {
   "cell_type": "markdown",
   "metadata": {
    "colab_type": "text",
    "id": "OGECzfIJ8-5x"
   },
   "source": [
    "## Downloads and imports"
   ]
  },
  {
   "cell_type": "code",
   "execution_count": null,
   "metadata": {
    "colab": {},
    "colab_type": "code",
    "id": "d7Kui7q9BWaV"
   },
   "outputs": [],
   "source": [
    "!pip install -U gensim pydub"
   ]
  },
  {
   "cell_type": "code",
   "execution_count": null,
   "metadata": {
    "colab": {},
    "colab_type": "code",
    "id": "WYNbqlpgz2Cq"
   },
   "outputs": [],
   "source": [
    "!cp -R '/content/drive/My Drive/TCC_data/corpus/' .\n",
    "!cp -R '/content/drive/My Drive/TCC_data/embeddings/' .\n",
    "\n",
    "!unzip -d 'word2vec' \"embeddings/word2vec_*.zip\"\n",
    "!unzip 'corpus/*.zip'"
   ]
  },
  {
   "cell_type": "code",
   "execution_count": null,
   "metadata": {
    "colab": {},
    "colab_type": "code",
    "id": "u8d7sCFh-deZ"
   },
   "outputs": [],
   "source": [
    "import warnings\n",
    "from IPython.display import display\n",
    "\n",
    "import pandas as pd\n",
    "import re\n",
    "from termcolor import colored\n",
    "\n",
    "from collections import Counter\n",
    "import editdistance\n",
    "from tqdm import tqdm\n",
    "import json\n",
    "\n",
    "from pydub import AudioSegment\n",
    "from gensim.models import KeyedVectors"
   ]
  },
  {
   "cell_type": "code",
   "execution_count": null,
   "metadata": {
    "colab": {},
    "colab_type": "code",
    "id": "bGA-eqYk8vwP"
   },
   "outputs": [],
   "source": [
    "warnings.filterwarnings('ignore')"
   ]
  },
  {
   "cell_type": "markdown",
   "metadata": {
    "colab_type": "text",
    "id": "wK6f74JcuclU"
   },
   "source": [
    "## Aux"
   ]
  },
  {
   "cell_type": "code",
   "execution_count": null,
   "metadata": {
    "colab": {},
    "colab_type": "code",
    "id": "tzcvGTNDufLk"
   },
   "outputs": [],
   "source": [
    "def play_audio_file(file_path):\n",
    "    with open(file_path, 'rb') as riff:\n",
    "        audio = AudioSegment.from_file(riff)\n",
    "    return audio\n",
    "\n",
    "def flatten_list(l):\n",
    "    return [item for sublist in l for item in sublist]\n",
    "\n",
    "def clean_str(x):\n",
    "    return re.sub('\\W', ' ', x).lower()\n",
    "\n",
    "def missing_count(c, m):\n",
    "    l = []\n",
    "    for i in m:\n",
    "        e = c[i]\n",
    "        l.append((e, i))\n",
    "    for k, v in sorted(l, reverse=True):\n",
    "        print('{}: {}'.format(v, k))"
   ]
  },
  {
   "cell_type": "markdown",
   "metadata": {
    "colab_type": "text",
    "id": "Ns1FrJCmt32x"
   },
   "source": [
    "## Load vocabulary and data"
   ]
  },
  {
   "cell_type": "code",
   "execution_count": null,
   "metadata": {
    "colab": {},
    "colab_type": "code",
    "id": "5JSARam--KuM"
   },
   "outputs": [],
   "source": [
    "word2vec_cbow_s50 = KeyedVectors.load_word2vec_format('word2vec/cbow_s50.txt')\n",
    "emb_vocabulary_cbow = set(word2vec_cbow_s50.vocab.keys())"
   ]
  },
  {
   "cell_type": "code",
   "execution_count": null,
   "metadata": {
    "colab": {
     "base_uri": "https://localhost:8080/",
     "height": 221
    },
    "colab_type": "code",
    "id": "zMjbymjwk5ky",
    "outputId": "5639c94f-dcc3-4874-de4d-f4ec18919519"
   },
   "outputs": [],
   "source": [
    "corpus = 'voxforge'\n",
    "df = pd.read_csv(\n",
    "    '/content/drive/My Drive/TCC_data/metrics/data/evaluate_metrics_{}.tsv'.format(corpus), \n",
    "    sep='\\t'\n",
    ")\n",
    "print(df.shape)\n",
    "df.head()"
   ]
  },
  {
   "cell_type": "markdown",
   "metadata": {
    "colab_type": "text",
    "id": "Nj2MnoAwEZ0Y"
   },
   "source": [
    "## Missing vocabulary"
   ]
  },
  {
   "cell_type": "code",
   "execution_count": null,
   "metadata": {
    "colab": {},
    "colab_type": "code",
    "id": "eSvH5TLIAJg3"
   },
   "outputs": [],
   "source": [
    "df.dropna(inplace=True)"
   ]
  },
  {
   "cell_type": "code",
   "execution_count": null,
   "metadata": {
    "colab": {},
    "colab_type": "code",
    "id": "9qGuBPYrliqC"
   },
   "outputs": [],
   "source": [
    "voc_sentence = df['sentence'].apply(lambda x: clean_str(x).split()).values.tolist()\n",
    "voc_translation = df['translation'].apply(lambda x: clean_str(x).split()).values.tolist()"
   ]
  },
  {
   "cell_type": "code",
   "execution_count": null,
   "metadata": {
    "colab": {},
    "colab_type": "code",
    "id": "NbrOU0JeQuaH"
   },
   "outputs": [],
   "source": [
    "voc_sentence_counter = Counter()\n",
    "for word in flatten_list(voc_sentence):\n",
    "    voc_sentence_counter[word] += 1\n",
    "\n",
    "voc_translation_counter = Counter()\n",
    "for word in flatten_list(voc_translation):\n",
    "    voc_translation_counter[word] += 1"
   ]
  },
  {
   "cell_type": "code",
   "execution_count": null,
   "metadata": {
    "colab": {},
    "colab_type": "code",
    "id": "-3vHHr4wmvgW"
   },
   "outputs": [],
   "source": [
    "def missing_vocab(emb_vocabulary):\n",
    "    voc_sent = set(voc_sentence_counter.keys())\n",
    "    voc_trans = set(voc_translation_counter.keys())\n",
    "    voc_df = voc_sent | voc_trans\n",
    "\n",
    "    voc_missing_sentence = voc_sent - emb_vocabulary\n",
    "    voc_missing_translation = voc_trans - emb_vocabulary\n",
    "    voc_missing_df = voc_df - emb_vocabulary\n",
    "\n",
    "    print('Dataset vocabulary: {} ({} missing)'.format(len(voc_df), len(voc_missing_df)))\n",
    "    print('Sentences vocabulary: {} ({} missing)'.format(len(voc_sent), len(voc_missing_sentence)))\n",
    "    print('Transcription vocabulary: {} ({} missing)'.format(len(voc_trans), len(voc_missing_translation)))\n",
    "    print('Sentences - Transcription difference: {}'.format(len(voc_sent - voc_trans)))\n",
    "    print('Transcription - Sentences difference: {}'.format(len(voc_trans - voc_sent)))\n",
    "\n",
    "    return voc_missing_sentence, voc_missing_translation"
   ]
  },
  {
   "cell_type": "code",
   "execution_count": null,
   "metadata": {
    "colab": {
     "base_uri": "https://localhost:8080/",
     "height": 102
    },
    "colab_type": "code",
    "id": "mfyjFDfiQE-S",
    "outputId": "65a2c88e-67b7-4b48-856d-b6b36267b343"
   },
   "outputs": [],
   "source": [
    "voc_miss_sentence_cbow, voc_miss_translation_cbow = missing_vocab(emb_vocabulary_cbow)"
   ]
  },
  {
   "cell_type": "code",
   "execution_count": null,
   "metadata": {
    "colab": {
     "base_uri": "https://localhost:8080/",
     "height": 68
    },
    "colab_type": "code",
    "id": "HHSyTRBISpGj",
    "outputId": "a01c3859-4970-4c56-af0a-df47930a551e"
   },
   "outputs": [],
   "source": [
    "missing_count(voc_sentence_counter, voc_miss_sentence_cbow)"
   ]
  },
  {
   "cell_type": "code",
   "execution_count": null,
   "metadata": {
    "colab": {
     "base_uri": "https://localhost:8080/",
     "height": 459
    },
    "colab_type": "code",
    "id": "5lp3WePwQuDx",
    "outputId": "c3870c75-7ad6-4d0b-dde1-764aabb0b665"
   },
   "outputs": [],
   "source": [
    "missing_count(voc_translation_counter, voc_miss_translation_cbow)"
   ]
  },
  {
   "cell_type": "markdown",
   "metadata": {
    "colab_type": "text",
    "id": "kHxtnmy0tbxD"
   },
   "source": [
    "## Miss transcriptions"
   ]
  },
  {
   "cell_type": "code",
   "execution_count": null,
   "metadata": {
    "colab": {},
    "colab_type": "code",
    "id": "52uBfeR0unx5"
   },
   "outputs": [],
   "source": [
    "sentences = df['sentence'].apply(lambda x: clean_str(x).split()).values.tolist()\n",
    "translations = df['translation'].apply(lambda x: clean_str(x).split()).values.tolist()"
   ]
  },
  {
   "cell_type": "code",
   "execution_count": null,
   "metadata": {
    "colab": {},
    "colab_type": "code",
    "id": "fwMh4kjIwExY"
   },
   "outputs": [],
   "source": [
    "sentences = [set(p) for p in sentences]\n",
    "translations = [set(p) for p in translations]"
   ]
  },
  {
   "cell_type": "code",
   "execution_count": null,
   "metadata": {
    "colab": {},
    "colab_type": "code",
    "id": "BF2PJMoWvOxv"
   },
   "outputs": [],
   "source": [
    "misses = []\n",
    "for s, t in zip(sentences, translations):\n",
    "    m_s = list(s - t)\n",
    "    m_t = list(t - s)\n",
    "    if m_s or m_t:\n",
    "        misses.append([m_s, m_t])\n",
    "    else:\n",
    "        misses.append([None, None])"
   ]
  },
  {
   "cell_type": "code",
   "execution_count": null,
   "metadata": {
    "colab": {},
    "colab_type": "code",
    "id": "Tu92QL1uwsa-"
   },
   "outputs": [],
   "source": [
    "df_miss_transcriptions = pd.DataFrame(misses, columns=['missing sentence', 'missing transcription'])\n",
    "df_miss_transcriptions = df.merge(df_miss_transcriptions, left_index=True, right_index=True)\n",
    "df_miss_transcriptions.dropna(inplace=True)"
   ]
  },
  {
   "cell_type": "code",
   "execution_count": null,
   "metadata": {
    "colab": {
     "base_uri": "https://localhost:8080/",
     "height": 419
    },
    "colab_type": "code",
    "id": "hmErYfZOxgtM",
    "outputId": "f8a55c8a-1a77-4a71-b7e6-44b8e6846205"
   },
   "outputs": [],
   "source": [
    "df_miss_transcriptions"
   ]
  },
  {
   "cell_type": "code",
   "execution_count": null,
   "metadata": {
    "colab": {},
    "colab_type": "code",
    "id": "_RjUJDTEWBvq"
   },
   "outputs": [],
   "source": [
    "missing_sentence = df_miss_transcriptions['missing sentence'].values.tolist()\n",
    "missing_transcription = df_miss_transcriptions['missing transcription'].values.tolist()"
   ]
  },
  {
   "cell_type": "code",
   "execution_count": null,
   "metadata": {
    "colab": {},
    "colab_type": "code",
    "id": "u3kfxzPmVxLl"
   },
   "outputs": [],
   "source": [
    "missing_sentence_counter = Counter()\n",
    "for word in flatten_list(missing_sentence):\n",
    "    missing_sentence_counter[word] += 1\n",
    "\n",
    "missing_transcription_counter = Counter()\n",
    "for word in flatten_list(missing_transcription):\n",
    "    missing_transcription_counter[word] += 1"
   ]
  },
  {
   "cell_type": "code",
   "execution_count": null,
   "metadata": {
    "colab": {
     "base_uri": "https://localhost:8080/",
     "height": 1000
    },
    "colab_type": "code",
    "id": "tBHuCxucxivg",
    "outputId": "0d4b71b7-c124-47cd-cfb4-b7ffa1c3b4e3"
   },
   "outputs": [],
   "source": [
    "for i, r in df_miss_transcriptions.sample(15).iterrows():\n",
    "    s = [\n",
    "         colored(w, 'red') if clean_str(w).strip() in r['missing sentence'] else w \n",
    "         for w in r['sentence'].split()\n",
    "    ]\n",
    "    t = [\n",
    "         colored(w, 'yellow') if clean_str(w).strip() in r['missing transcription'] else w \n",
    "         for w in r['translation'].split()\n",
    "    ]\n",
    "    s = ' '.join(s)\n",
    "    t = ' '.join(t)\n",
    "    display(play_audio_file(r['file']))\n",
    "    print(s)\n",
    "    print(t)\n",
    "    print('*' * 80)"
   ]
  },
  {
   "cell_type": "code",
   "execution_count": null,
   "metadata": {
    "colab": {
     "base_uri": "https://localhost:8080/",
     "height": 1000
    },
    "colab_type": "code",
    "id": "RmGMIIzDWguU",
    "outputId": "20df2c58-d51b-4b00-eb7a-c363b9820e6e"
   },
   "outputs": [],
   "source": [
    "for k in sorted(missing_sentence_counter, key=missing_sentence_counter.get, reverse=True):\n",
    "    print('{}: {}'.format(k, missing_sentence_counter[k]))"
   ]
  },
  {
   "cell_type": "code",
   "execution_count": null,
   "metadata": {
    "colab": {
     "base_uri": "https://localhost:8080/",
     "height": 1000
    },
    "colab_type": "code",
    "id": "7LZI-RJoXwUv",
    "outputId": "46c21d4e-6ca4-4b4c-f656-8d2af00d6fac"
   },
   "outputs": [],
   "source": [
    "for k in sorted(missing_transcription_counter, key=missing_transcription_counter.get, reverse=True):\n",
    "    print('{}: {}'.format(k, missing_transcription_counter[k]))"
   ]
  },
  {
   "cell_type": "markdown",
   "metadata": {
    "colab_type": "text",
    "id": "i83eR8XG68pe"
   },
   "source": [
    "## Fix missing OOV"
   ]
  },
  {
   "cell_type": "code",
   "execution_count": null,
   "metadata": {
    "colab": {},
    "colab_type": "code",
    "id": "iDc5UxOG-P_t"
   },
   "outputs": [],
   "source": [
    "vocab_translation_list = [*set(voc_translation_counter.keys())]\n",
    "vocab_list_cbow = [*emb_vocabulary_cbow]"
   ]
  },
  {
   "cell_type": "code",
   "execution_count": null,
   "metadata": {
    "colab": {
     "base_uri": "https://localhost:8080/",
     "height": 34
    },
    "colab_type": "code",
    "id": "X5Bx8P13-faz",
    "outputId": "43f641e6-1548-4275-96af-ec74b6579008"
   },
   "outputs": [],
   "source": [
    "oov_match = dict()\n",
    "for w in tqdm(vocab_translation_list):\n",
    "    if w not in emb_vocabulary_cbow:\n",
    "        dists = map(lambda x: editdistance.eval(x, w), vocab_list_cbow)\n",
    "        dist_word = zip(dists, vocab_list_cbow)\n",
    "        dist_word = sorted([*dist_word])\n",
    "        oov_match[w] = dist_word[:5]\n",
    "    else:\n",
    "        oov_match[w] = [(0, w)]"
   ]
  },
  {
   "cell_type": "code",
   "execution_count": null,
   "metadata": {
    "colab": {
     "base_uri": "https://localhost:8080/",
     "height": 1000
    },
    "colab_type": "code",
    "id": "-cmRKzunBAXh",
    "outputId": "9bb5c7c8-38ad-4bc2-ebfa-ee7ee0a9e1c2"
   },
   "outputs": [],
   "source": [
    "oov_match"
   ]
  },
  {
   "cell_type": "code",
   "execution_count": null,
   "metadata": {
    "colab": {},
    "colab_type": "code",
    "id": "eBFz8EmVCgJW"
   },
   "outputs": [],
   "source": [
    "with open('/content/drive/My Drive/TCC_data/embeddings/oov_{}.json'.format(corpus), 'w') as f:\n",
    "    json.dump(oov_match, f)"
   ]
  },
  {
   "cell_type": "code",
   "execution_count": null,
   "metadata": {
    "colab": {},
    "colab_type": "code",
    "id": "FsDDFy7VNBJa"
   },
   "outputs": [],
   "source": []
  }
 ],
 "metadata": {
  "colab": {
   "collapsed_sections": [],
   "name": "embeddings_vocabulary_count.ipynb",
   "provenance": []
  },
  "kernelspec": {
   "display_name": "Python 3",
   "language": "python",
   "name": "python3"
  },
  "language_info": {
   "codemirror_mode": {
    "name": "ipython",
    "version": 3
   },
   "file_extension": ".py",
   "mimetype": "text/x-python",
   "name": "python",
   "nbconvert_exporter": "python",
   "pygments_lexer": "ipython3",
   "version": "3.7.9"
  }
 },
 "nbformat": 4,
 "nbformat_minor": 4
}
