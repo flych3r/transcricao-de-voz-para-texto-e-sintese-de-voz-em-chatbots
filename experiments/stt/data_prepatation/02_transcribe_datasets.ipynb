{
 "cells": [
  {
   "cell_type": "markdown",
   "metadata": {
    "colab_type": "text",
    "id": "h1C7ZCRd9FCi"
   },
   "source": [
    "# String Matching Evaluation"
   ]
  },
  {
   "cell_type": "markdown",
   "metadata": {
    "colab_type": "text",
    "id": "OGECzfIJ8-5x"
   },
   "source": [
    "## Downloads and imports"
   ]
  },
  {
   "cell_type": "code",
   "execution_count": null,
   "metadata": {
    "colab": {
     "base_uri": "https://localhost:8080/",
     "height": 170
    },
    "colab_type": "code",
    "id": "d7Kui7q9BWaV",
    "outputId": "da8db4b7-61e6-4d46-98ab-3f57f083e263"
   },
   "outputs": [],
   "source": [
    "!pip install -U python-dotenv pydub mutagen"
   ]
  },
  {
   "cell_type": "code",
   "execution_count": null,
   "metadata": {
    "colab": {
     "base_uri": "https://localhost:8080/",
     "height": 1000
    },
    "colab_type": "code",
    "id": "WYNbqlpgz2Cq",
    "outputId": "2161be92-4c40-4216-a938-95ff3dcd1504"
   },
   "outputs": [],
   "source": [
    "!cp -R '/content/drive/My Drive/TCC_data/corpus/' .\n",
    "!unzip 'corpus/*.zip'"
   ]
  },
  {
   "cell_type": "code",
   "execution_count": null,
   "metadata": {
    "colab": {},
    "colab_type": "code",
    "id": "u8d7sCFh-deZ"
   },
   "outputs": [],
   "source": [
    "import io\n",
    "import json\n",
    "import os\n",
    "import glob\n",
    "import time\n",
    "import wave\n",
    "import contextlib\n",
    "import warnings\n",
    "from tempfile import TemporaryFile\n",
    "from collections import OrderedDict\n",
    "from itertools import chain\n",
    "from multiprocessing import Process\n",
    "import re\n",
    "\n",
    "import numpy as np\n",
    "import pandas as pd\n",
    "import requests\n",
    "from IPython import display\n",
    "from tqdm import tqdm\n",
    "from mutagen.mp3 import MP3\n",
    "\n",
    "from dotenv import load_dotenv\n",
    "from pydub import AudioSegment"
   ]
  },
  {
   "cell_type": "code",
   "execution_count": null,
   "metadata": {
    "colab": {
     "base_uri": "https://localhost:8080/",
     "height": 34
    },
    "colab_type": "code",
    "id": "bGA-eqYk8vwP",
    "outputId": "e4a6ab00-569b-487a-90a5-27f028f6bf59"
   },
   "outputs": [],
   "source": [
    "warnings.filterwarnings('ignore')\n",
    "\n",
    "tqdm.pandas()\n",
    "\n",
    "load_dotenv(dotenv_path='/content/drive/My Drive/Colab Notebooks/.env')"
   ]
  },
  {
   "cell_type": "markdown",
   "metadata": {
    "colab_type": "text",
    "id": "wK6f74JcuclU"
   },
   "source": [
    "## Aux"
   ]
  },
  {
   "cell_type": "code",
   "execution_count": null,
   "metadata": {
    "colab": {},
    "colab_type": "code",
    "id": "tzcvGTNDufLk"
   },
   "outputs": [],
   "source": [
    "def split_into_chunks(\n",
    "    segment, length=20000 / 1001, split_on_silence=False, noise_threshold=-36\n",
    "):\n",
    "    chunks = list()\n",
    "\n",
    "    if split_on_silence is False:\n",
    "        for i in range(0, len(segment), int(length * 1000)):\n",
    "            chunks.append(segment[i:i + int(length * 1000)])\n",
    "    else:\n",
    "        while len(chunks) < 1:\n",
    "            chunks = split_on_silence(segment, noise_threshold)\n",
    "            noise_threshold += 4\n",
    "\n",
    "    for i, chunk in enumerate(chunks):\n",
    "        if len(chunk) > int(length * 1000):\n",
    "            subchunks = split_into_chunks(\n",
    "                chunk, length, split_on_silence, noise_threshold + 4\n",
    "            )\n",
    "            chunks = chunks[:i - 1] + subchunks + chunks[i + 1:]\n",
    "\n",
    "    return chunks\n",
    "\n",
    "\n",
    "def preprocess_audio(audio):\n",
    "    return audio.set_sample_width(2).set_channels(1).set_frame_rate(48000)\n",
    "\n",
    "\n",
    "def read_audio_into_chunks(file_path):\n",
    "    audio = AudioSegment.from_file(file_path)\n",
    "    with tempfile.TemporaryFile() as fp:\n",
    "        audio.export(fp, format='wav')\n",
    "        audio = AudioSegment.from_file_using_temporary_files(fp, format='ogg')\n",
    "    return split_into_chunks(preprocess_audio(audio))\n",
    "\n",
    "\n",
    "def transcribe_audio_wit(file_path, app_id):\n",
    "    url = 'https://api.wit.ai/speech'\n",
    "\n",
    "    authorization = 'Bearer ' + os.environ.get('WIT_KEY_{}'.format(app_id))\n",
    "    content_type = 'audio/raw;' \\\n",
    "        'encoding=signed-integer;' \\\n",
    "        'bits=16;' \\\n",
    "        'rate=48000;' \\\n",
    "        'endian=little'\n",
    "\n",
    "    # defining headers for HTTP request\n",
    "    headers = {\n",
    "        'authorization': authorization,\n",
    "        'content-type': content_type\n",
    "    }\n",
    "\n",
    "    chunks = read_audio_into_chunks(file_path)\n",
    "\n",
    "    text = []\n",
    "    for audio in chunks:\n",
    "        response = requests.post(\n",
    "            url,\n",
    "            headers=headers,\n",
    "            data=io.BufferedReader(io.BytesIO(audio.raw_data))\n",
    "        )\n",
    "\n",
    "        try:\n",
    "            # Get the text\n",
    "            data = json.loads(response.content)\n",
    "            if 'text' in data:\n",
    "                text.append(data['text'])\n",
    "        except:\n",
    "            pass\n",
    "\n",
    "    return ' '.join(text)\n",
    "\n",
    "def flatten_dict(d, parent_key='', sep='_'):\n",
    "    if not isinstance(d, dict):\n",
    "        return {parent_key: d}\n",
    "    items = []\n",
    "    for k, v in d.items():\n",
    "        new_key = parent_key + sep + k if parent_key else k\n",
    "        if isinstance(v, dict):\n",
    "            items.extend(flatten_dict(v, new_key, sep=sep).items())\n",
    "        else:\n",
    "            items.append((new_key, v))\n",
    "    return dict(items)\n",
    "\n",
    "\n",
    "def flatten_columns(df, columns):\n",
    "    for col in columns:\n",
    "        df[f'{col}_'] = df[f'{col}'].apply(flatten_dict)\n",
    "        keys = set(chain(*df[f'{col}_'].apply(lambda column: column.keys())))\n",
    "        for key in keys:\n",
    "            column_name = f'{col}_{key}'.lower()\n",
    "            df[column_name] = df[f'{col}_'].apply(\n",
    "                lambda cell: cell[key] if key in cell.keys() else np.NaN\n",
    "            )\n",
    "    cols_to_drop = [(f'{col}', f'{col}_') for col in columns]\n",
    "    return df.drop(columns=list(chain(*cols_to_drop)))\n",
    "\n",
    "def clean_str(x):\n",
    "    return re.sub('\\W', ' ', x).lower()\n",
    "\n",
    "def get_audio_length(file_path):\n",
    "    if file_path.endswith('.wav'):\n",
    "        with contextlib.closing(wave.open(file_path,'r')) as f:\n",
    "            frames = f.getnframes()\n",
    "            rate = f.getframerate()\n",
    "            duration = frames / float(rate)\n",
    "            return duration\n",
    "    if file_path.endswith('.mp3'):\n",
    "        audio = MP3(file_path)\n",
    "        return audio.info.length\n",
    "    raise Exception('Unsuported file format. File must be wav or mp3')"
   ]
  },
  {
   "cell_type": "markdown",
   "metadata": {
    "colab_type": "text",
    "id": "SFAnZh1CGN8i"
   },
   "source": [
    "## STT"
   ]
  },
  {
   "cell_type": "code",
   "execution_count": null,
   "metadata": {
    "colab": {},
    "colab_type": "code",
    "id": "BwRGQdkYtoxM"
   },
   "outputs": [],
   "source": [
    "def transcribe_on_process(corpus, df, p):\n",
    "    with open('evaluate_metrics_{}/{}.tsv'.format(corpus, p), 'w') as f:\n",
    "        print('file\\tlength\\tsentence\\ttranslation', file=f)\n",
    "        for i, row in tqdm(df.iterrows(), total=len(df), desc='Process {}'.format(p)):\n",
    "            path = row['filepath']\n",
    "            length = get_audio_length(path)\n",
    "            sentence = row['sentence']\n",
    "            translation = transcribe_audio_wit(path, p)\n",
    "            print('{}\\t{}\\t{}\\t{}'.format(path, length, sentence, translation), file=f)\n",
    "            time.sleep(0.5)"
   ]
  },
  {
   "cell_type": "code",
   "execution_count": null,
   "metadata": {
    "colab": {
     "base_uri": "https://localhost:8080/",
     "height": 85
    },
    "colab_type": "code",
    "id": "eCTWDw07JI_C",
    "outputId": "f49771cd-defb-4866-92d3-0cbdf8d402ab"
   },
   "outputs": [],
   "source": [
    "corpus = 'vorforge'\n",
    "\n",
    "os.mkdir('evaluate_metrics_{}'.format(corpus))\n",
    "final_df = pd.read_csv('{}/sentences.tsv'.format(corpus), sep='\\t')\n",
    "\n",
    "sz = len(final_df)\n",
    "bs = sz // 4\n",
    "\n",
    "all_processes = [\n",
    "    Process(\n",
    "        target=transcribe_on_process, args=(corpus, final_df.iloc[i * bs: (i + 1) * bs], i)\n",
    "    ) for i in range(4)\n",
    "]\n",
    "\n",
    "for p in all_processes:\n",
    "    p.start()\n",
    "\n",
    "for p in all_processes:\n",
    "    p.join()"
   ]
  },
  {
   "cell_type": "code",
   "execution_count": null,
   "metadata": {
    "colab": {
     "base_uri": "https://localhost:8080/",
     "height": 34
    },
    "colab_type": "code",
    "id": "ey8TTdIoNJM8",
    "outputId": "11cadff9-fadf-4a7c-e2f7-010ed83d6b51"
   },
   "outputs": [],
   "source": [
    "files = glob.glob('evaluate_metrics_{}/*.tsv'.format(corpus))\n",
    "\n",
    "transcribed_df = pd.concat(\n",
    "    [pd.read_csv(f, sep='\\t') for f in files], \n",
    "    ignore_index = True\n",
    ")\n",
    "\n",
    "print(transcribed_df.shape)\n",
    "\n",
    "transcribed_df.to_csv(\n",
    "    '/content/drive/My Drive/TCC_data/metrics/data/evaluate_metrics_{}.tsv'.format(corpus),\n",
    "    sep='\\t', index=False\n",
    ")"
   ]
  },
  {
   "cell_type": "code",
   "execution_count": null,
   "metadata": {
    "colab": {},
    "colab_type": "code",
    "id": "xFbeP7AKP7he"
   },
   "outputs": [],
   "source": []
  }
 ],
 "metadata": {
  "colab": {
   "collapsed_sections": [],
   "name": "transcribe_datasets.ipynb",
   "provenance": []
  },
  "kernelspec": {
   "display_name": "Python 3",
   "language": "python",
   "name": "python3"
  },
  "language_info": {
   "codemirror_mode": {
    "name": "ipython",
    "version": 3
   },
   "file_extension": ".py",
   "mimetype": "text/x-python",
   "name": "python",
   "nbconvert_exporter": "python",
   "pygments_lexer": "ipython3",
   "version": "3.8.8"
  }
 },
 "nbformat": 4,
 "nbformat_minor": 4
}
