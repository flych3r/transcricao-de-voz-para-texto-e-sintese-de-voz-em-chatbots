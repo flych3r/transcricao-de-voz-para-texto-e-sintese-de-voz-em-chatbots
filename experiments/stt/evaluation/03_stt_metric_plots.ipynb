{
 "cells": [
  {
   "cell_type": "code",
   "execution_count": null,
   "metadata": {
    "colab": {},
    "colab_type": "code",
    "id": "C4BitnUtYuFU"
   },
   "outputs": [],
   "source": [
    "import pandas as pd\n",
    "import numpy as np\n",
    "import matplotlib.pyplot as plt\n",
    "from IPython import display\n",
    "\n",
    "plt.style.use('fivethirtyeight')\n",
    "display.set_matplotlib_formats('svg')"
   ]
  },
  {
   "cell_type": "code",
   "execution_count": null,
   "metadata": {
    "colab": {},
    "colab_type": "code",
    "id": "HVnVUjMtYTt4"
   },
   "outputs": [],
   "source": [
    "file_path = '/content/drive/My Drive/TCC_data/metrics/data/evaluate_metrics_{}{}.tsv'\n",
    "\n",
    "dfs = dict()\n",
    "for name in ['cod_def_cons', 'constituicao', voxforge', 'mozilla']:\n",
    "    dfs[name] = pd.read_csv(file_path.format(name, ''), sep='\\t')\n",
    "    dfs[name + '_oov'] = pd.read_csv(file_path.format(name, '_oov'), sep='\\t')"
   ]
  },
  {
   "cell_type": "code",
   "execution_count": null,
   "metadata": {
    "colab": {},
    "colab_type": "code",
    "id": "fvIL0XfRZV5b"
   },
   "outputs": [],
   "source": [
    "def plot_comparison(eval, metric, dfs):\n",
    "    col_name = 'eval_{}'.format(eval)\n",
    "\n",
    "    labels = [*dfs.keys()]\n",
    "    values = [df[col_name].values.mean() for df in dfs.values()]\n",
    "    \n",
    "    colors = plt.cm.get_cmap('Set1').colors\n",
    "    colors = [c for c in colors for _ in (0, 1)]\n",
    "\n",
    "    x = np.arange(len(labels) // 2)\n",
    "    x = np.array([i + j for i in x for j in (0, 0.35)])\n",
    "\n",
    "    width = 0.6\n",
    "   \n",
    "    f, ax = plt.subplots(figsize=(8,5))\n",
    "\n",
    "    rects1 = ax.bar(x * 2, values, width, align='edge', color=colors)    \n",
    "\n",
    "    ax.set_ylabel(metric.lower())\n",
    "    ax.set_title('{} Score by Corpus'.format(eval.title()), pad=20)\n",
    "    ax.set_xticks(x * 2)\n",
    "    ax.set_xticklabels(labels, rotation=45)\n",
    "    \n",
    "    def autolabel(rects):\n",
    "        \"\"\"Attach a text label above each bar in *rects*, displaying its height.\"\"\"\n",
    "        for rect in rects:\n",
    "            height = rect.get_height()\n",
    "            ax.annotate(\n",
    "                '{:.03f}'.format(height),\n",
    "                xy=(rect.get_x() + rect.get_width() / 2, height),\n",
    "                xytext=(0, 3),  # 3 points vertical offset\n",
    "                textcoords=\"offset points\",\n",
    "                ha='center', va='bottom',fontsize=10\n",
    "            )\n",
    "\n",
    "\n",
    "    autolabel(rects1)\n",
    "\n",
    "    plt.tight_layout()\n",
    "\n",
    "    return ax"
   ]
  },
  {
   "cell_type": "code",
   "execution_count": null,
   "metadata": {
    "colab": {
     "base_uri": "https://localhost:8080/",
     "height": 1000
    },
    "colab_type": "code",
    "id": "-dSeY1QHabB-",
    "outputId": "0b6c0ff5-3e01-47d0-9a30-d79f7d42cced"
   },
   "outputs": [],
   "source": [
    "metrics = [\n",
    "    ('word2vec_cbow_s50', 'cossine similarity'), ('word2vec_skip_s50', 'cossine similarity'),\n",
    "    ('wang2vec_cbow_s50', 'cossine similarity'), ('wang2vec_skip_s50', 'cossine similarity'),\n",
    "    ('bleu', 'bleu'), ('meteor', 'meteor'), \n",
    "    ('word error rate', 'wer %'), ('jaccard_distance', 'jaccard distance')\n",
    "]\n",
    "\n",
    "for e, m in metrics:\n",
    "    plot_comparison(e, m, dfs);\n",
    "    plt.savefig('/content/drive/My Drive/TCC_data/metrics/plots/{}.png'.format(e))"
   ]
  },
  {
   "cell_type": "code",
   "execution_count": null,
   "metadata": {
    "colab": {},
    "colab_type": "code",
    "id": "ekWbYQTvbNib"
   },
   "outputs": [],
   "source": []
  }
 ],
 "metadata": {
  "colab": {
   "collapsed_sections": [],
   "name": "stt_metric_plots.ipynb",
   "provenance": []
  },
  "kernelspec": {
   "display_name": "Python 3",
   "language": "python",
   "name": "python3"
  },
  "language_info": {
   "codemirror_mode": {
    "name": "ipython",
    "version": 3
   },
   "file_extension": ".py",
   "mimetype": "text/x-python",
   "name": "python",
   "nbconvert_exporter": "python",
   "pygments_lexer": "ipython3",
   "version": "3.7.9"
  }
 },
 "nbformat": 4,
 "nbformat_minor": 4
}
