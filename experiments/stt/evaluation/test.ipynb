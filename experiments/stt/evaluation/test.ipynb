{
 "cells": [
  {
   "cell_type": "code",
   "execution_count": 1,
   "metadata": {},
   "outputs": [],
   "source": [
    "%load_ext autoreload\n",
    "%autoreload 2"
   ]
  },
  {
   "cell_type": "code",
   "execution_count": 2,
   "metadata": {},
   "outputs": [],
   "source": [
    "import pandas as pd\n",
    "from tqdm.auto import tqdm\n",
    "\n",
    "tqdm.pandas()"
   ]
  },
  {
   "cell_type": "code",
   "execution_count": 3,
   "metadata": {},
   "outputs": [],
   "source": [
    "evaluation = dict()\n",
    "apis = ['wit', 'azure', 'gcloud']\n",
    "datasets = ['mozilla', 'voxforge']\n",
    "\n",
    "for corpus in datasets:\n",
    "    evaluation[corpus] = dict()\n",
    "    for api in apis:\n",
    "        df = pd.read_csv(f'transcribed_datasets/transcribe_{api}/{corpus}_metrics.tsv', sep='\\t')\n",
    "        df['wer'] *= 100\n",
    "        evaluation[corpus][api] = df[['wer', 'bleu', 'meteor', 'w2vcbow' ,'w2vskip']].mean().round(decimals=3).to_dict()"
   ]
  },
  {
   "cell_type": "code",
   "execution_count": 6,
   "metadata": {},
   "outputs": [
    {
     "name": "stdout",
     "output_type": "stream",
     "text": [
      "\\begin{tabular}{lrrrrr}\n",
      "\\toprule\n",
      "{} &     wer &   bleu &  meteor &  w2vcbow &  w2vskip \\\\\n",
      "\\midrule\n",
      "wit    &  11.437 &  0.856 &   0.873 &    0.919 &    0.920 \\\\\n",
      "azure  &   7.250 &  0.900 &   0.906 &    0.946 &    0.947 \\\\\n",
      "gcloud &  10.491 &  0.862 &   0.874 &    0.925 &    0.925 \\\\\n",
      "\\bottomrule\n",
      "\\end{tabular}\n",
      "\n"
     ]
    }
   ],
   "source": [
    "print(pd.DataFrame(evaluation['voxforge']).T.to_latex())"
   ]
  },
  {
   "cell_type": "code",
   "execution_count": null,
   "metadata": {},
   "outputs": [],
   "source": [
    "apis = dict()\n",
    "for api in ['wit', 'azure', 'gcloud']:\n",
    "    corpus = 'mozilla'\n",
    "    df_orig = pd.read_csv(f'./{corpus}/sentences_duration.tsv', sep='\\t')\n",
    "    df_orig['gender'] = df_orig['gender'].apply(lambda x: (x == 'other' and 'not informed') or x)\n",
    "    df_transcribe = pd.read_csv(f'./transcribed_datasets/transcribe_{api}/{corpus}_metrics.tsv', sep='\\t')\n",
    "    df_transcribe['wer'] *= 100\n",
    "    df = df_transcribe.merge(df_orig, left_on='file', right_on='filepath').groupby('gender').mean()\n",
    "    apis[api] = df[['wer', 'bleu', 'meteor', 'w2vcbow', 'w2vskip']].to_dict()"
   ]
  },
  {
   "cell_type": "code",
   "execution_count": null,
   "metadata": {},
   "outputs": [],
   "source": [
    "import numpy as np\n",
    "import matplotlib.pyplot as plt\n",
    "\n",
    "plt.style.use('grayscale')\n",
    "metric = 'wer'\n",
    "\n",
    "legend_loc = 'lower right'\n",
    "save_fig = f'{metric}_by_gender.pdf'\n",
    "show = True\n",
    "title = 'A'\n",
    "ylabel = 'word error rate % (lower is better)'\n",
    "\n",
    "labels = ['Wit.ai', 'Azure Speech Services', 'Google Cloud Speech-to-Text']\n",
    "\n",
    "wit = [round(apis['wit'][metric][g], 2) for g in ['female', 'male', 'not informed']]\n",
    "azure = [round(apis['azure'][metric][g], 2) for g in ['female', 'male', 'not informed']]\n",
    "gcloud = [round(apis['gcloud'][metric][g], 2) for g in ['female', 'male', 'not informed']]\n",
    "\n",
    "values = [\n",
    "    wit, azure, gcloud\n",
    "]\n",
    "bar_names = ['Female', 'Male', 'Not Informed']\n",
    "\n",
    "n = len(values)\n",
    "w = .3\n",
    "ls = 30 * w\n",
    "x = np.arange(0, len(labels))\n",
    "\n",
    "_, ax = plt.subplots()\n",
    "for i, (b, value) in enumerate(zip(bar_names, values)):\n",
    "    position = x + (w*(1-n)/2) + i*w\n",
    "    bar = ax.bar(position, value, width=w, label=f'{b}')\n",
    "    ax.bar_label(bar, padding=1, size=ls)\n",
    "\n",
    "legend = plt.legend(loc=legend_loc, frameon=1)\n",
    "frame = legend.get_frame()\n",
    "frame.set_facecolor('white')\n",
    "frame.set_edgecolor('black')\n",
    "\n",
    "if title:\n",
    "    plt.title(title)\n",
    "\n",
    "plt.xticks(x, labels, rotation=10)\n",
    "plt.ylabel(ylabel)\n",
    "\n",
    "plt.tight_layout()\n",
    "if save_fig:\n",
    "    plt.savefig(save_fig)\n",
    "if show:\n",
    "    plt.show()"
   ]
  },
  {
   "cell_type": "code",
   "execution_count": null,
   "metadata": {},
   "outputs": [],
   "source": []
  }
 ],
 "metadata": {
  "interpreter": {
   "hash": "511e68f0cc9a267f2f507b81aae9ff4da658b888814fb01a86e46e3948f4a68d"
  },
  "kernelspec": {
   "display_name": "Python 3.8.8 64-bit ('esann': conda)",
   "name": "python3"
  },
  "language_info": {
   "codemirror_mode": {
    "name": "ipython",
    "version": 3
   },
   "file_extension": ".py",
   "mimetype": "text/x-python",
   "name": "python",
   "nbconvert_exporter": "python",
   "pygments_lexer": "ipython3",
   "version": "3.8.8"
  },
  "orig_nbformat": 2
 },
 "nbformat": 4,
 "nbformat_minor": 2
}